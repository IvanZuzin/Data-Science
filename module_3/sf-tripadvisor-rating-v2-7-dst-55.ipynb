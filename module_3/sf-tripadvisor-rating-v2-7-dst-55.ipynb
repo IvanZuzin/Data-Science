{
 "cells": [
  {
   "cell_type": "markdown",
   "metadata": {},
   "source": [
    "# import"
   ]
  },
  {
   "cell_type": "code",
   "execution_count": 1,
   "metadata": {
    "_cell_guid": "b1076dfc-b9ad-4769-8c92-a6c4dae69d19",
    "_uuid": "8f2839f25d086af736a60e9eeb907d3b93b6e0e5",
    "execution": {
     "iopub.execute_input": "2021-06-26T18:13:39.198264Z",
     "iopub.status.busy": "2021-06-26T18:13:39.197931Z",
     "iopub.status.idle": "2021-06-26T18:13:39.212284Z",
     "shell.execute_reply": "2021-06-26T18:13:39.211294Z",
     "shell.execute_reply.started": "2021-06-26T18:13:39.198199Z"
    }
   },
   "outputs": [],
   "source": [
    "# This Python 3 environment comes with many helpful analytics libraries installed\n",
    "# It is defined by the kaggle/python docker image: https://github.com/kaggle/docker-python\n",
    "# For example, here's several helpful packages to load in \n",
    "\n",
    "import numpy as np # linear algebra\n",
    "import pandas as pd # data processing, CSV file I/O (e.g. pd.read_csv)\n",
    "from sklearn.preprocessing import MinMaxScaler\n",
    "import matplotlib.pyplot as plt\n",
    "import seaborn as sns \n",
    "%matplotlib inline\n",
    "\n",
    "# Загружаем специальный удобный инструмент для разделения датасета:\n",
    "from sklearn.model_selection import train_test_split\n",
    "import os"
   ]
  },
  {
   "cell_type": "code",
   "execution_count": 2,
   "metadata": {
    "execution": {
     "iopub.execute_input": "2021-06-26T18:13:39.234363Z",
     "iopub.status.busy": "2021-06-26T18:13:39.234016Z",
     "iopub.status.idle": "2021-06-26T18:13:39.239597Z",
     "shell.execute_reply": "2021-06-26T18:13:39.238462Z",
     "shell.execute_reply.started": "2021-06-26T18:13:39.234305Z"
    }
   },
   "outputs": [],
   "source": [
    "# всегда фиксируйте RANDOM_SEED, чтобы ваши эксперименты были воспроизводимы!\n",
    "RANDOM_SEED = 42"
   ]
  },
  {
   "cell_type": "code",
   "execution_count": 3,
   "metadata": {
    "execution": {
     "iopub.execute_input": "2021-06-26T18:13:39.305511Z",
     "iopub.status.busy": "2021-06-26T18:13:39.305202Z",
     "iopub.status.idle": "2021-06-26T18:13:41.596573Z",
     "shell.execute_reply": "2021-06-26T18:13:41.595631Z",
     "shell.execute_reply.started": "2021-06-26T18:13:39.305470Z"
    }
   },
   "outputs": [],
   "source": [
    "# зафиксируем версию пакетов, чтобы эксперименты были воспроизводимы:\n",
    "!pip freeze > requirements.txt"
   ]
  },
  {
   "cell_type": "markdown",
   "metadata": {},
   "source": [
    "# DATA"
   ]
  },
  {
   "cell_type": "code",
   "execution_count": 4,
   "metadata": {
    "_cell_guid": "79c7e3d0-c299-4dcb-8224-4455121ee9b0",
    "_uuid": "d629ff2d2480ee46fbb7e2d37f6b5fab8052498a",
    "execution": {
     "iopub.execute_input": "2021-06-26T18:13:41.598685Z",
     "iopub.status.busy": "2021-06-26T18:13:41.598383Z",
     "iopub.status.idle": "2021-06-26T18:13:41.834880Z",
     "shell.execute_reply": "2021-06-26T18:13:41.834046Z",
     "shell.execute_reply.started": "2021-06-26T18:13:41.598633Z"
    }
   },
   "outputs": [],
   "source": [
    "df_train = pd.read_csv('main_task.csv')\n",
    "df_test = pd.read_csv('kaggle_task.csv')\n",
    "sample_submission = pd.read_csv('sample_submission.csv')"
   ]
  },
  {
   "cell_type": "code",
   "execution_count": 5,
   "metadata": {
    "execution": {
     "iopub.execute_input": "2021-06-26T18:13:41.836457Z",
     "iopub.status.busy": "2021-06-26T18:13:41.836198Z",
     "iopub.status.idle": "2021-06-26T18:13:41.858893Z",
     "shell.execute_reply": "2021-06-26T18:13:41.857880Z",
     "shell.execute_reply.started": "2021-06-26T18:13:41.836404Z"
    }
   },
   "outputs": [
    {
     "name": "stdout",
     "output_type": "stream",
     "text": [
      "<class 'pandas.core.frame.DataFrame'>\n",
      "RangeIndex: 40000 entries, 0 to 39999\n",
      "Data columns (total 10 columns):\n",
      " #   Column             Non-Null Count  Dtype  \n",
      "---  ------             --------------  -----  \n",
      " 0   Restaurant_id      40000 non-null  object \n",
      " 1   City               40000 non-null  object \n",
      " 2   Cuisine Style      30717 non-null  object \n",
      " 3   Ranking            40000 non-null  float64\n",
      " 4   Rating             40000 non-null  float64\n",
      " 5   Price Range        26114 non-null  object \n",
      " 6   Number of Reviews  37457 non-null  float64\n",
      " 7   Reviews            40000 non-null  object \n",
      " 8   URL_TA             40000 non-null  object \n",
      " 9   ID_TA              40000 non-null  object \n",
      "dtypes: float64(3), object(7)\n",
      "memory usage: 3.1+ MB\n"
     ]
    }
   ],
   "source": [
    "df_train.info()"
   ]
  },
  {
   "cell_type": "code",
   "execution_count": 6,
   "metadata": {
    "execution": {
     "iopub.execute_input": "2021-06-26T18:13:41.860475Z",
     "iopub.status.busy": "2021-06-26T18:13:41.860081Z",
     "iopub.status.idle": "2021-06-26T18:13:41.880369Z",
     "shell.execute_reply": "2021-06-26T18:13:41.879009Z",
     "shell.execute_reply.started": "2021-06-26T18:13:41.860375Z"
    }
   },
   "outputs": [
    {
     "data": {
      "text/html": [
       "<div>\n",
       "<style scoped>\n",
       "    .dataframe tbody tr th:only-of-type {\n",
       "        vertical-align: middle;\n",
       "    }\n",
       "\n",
       "    .dataframe tbody tr th {\n",
       "        vertical-align: top;\n",
       "    }\n",
       "\n",
       "    .dataframe thead th {\n",
       "        text-align: right;\n",
       "    }\n",
       "</style>\n",
       "<table border=\"1\" class=\"dataframe\">\n",
       "  <thead>\n",
       "    <tr style=\"text-align: right;\">\n",
       "      <th></th>\n",
       "      <th>Restaurant_id</th>\n",
       "      <th>City</th>\n",
       "      <th>Cuisine Style</th>\n",
       "      <th>Ranking</th>\n",
       "      <th>Rating</th>\n",
       "      <th>Price Range</th>\n",
       "      <th>Number of Reviews</th>\n",
       "      <th>Reviews</th>\n",
       "      <th>URL_TA</th>\n",
       "      <th>ID_TA</th>\n",
       "    </tr>\n",
       "  </thead>\n",
       "  <tbody>\n",
       "    <tr>\n",
       "      <th>0</th>\n",
       "      <td>id_5569</td>\n",
       "      <td>Paris</td>\n",
       "      <td>['European', 'French', 'International']</td>\n",
       "      <td>5570.0</td>\n",
       "      <td>3.5</td>\n",
       "      <td>$$ - $$$</td>\n",
       "      <td>194.0</td>\n",
       "      <td>[['Good food at your doorstep', 'A good hotel ...</td>\n",
       "      <td>/Restaurant_Review-g187147-d1912643-Reviews-R_...</td>\n",
       "      <td>d1912643</td>\n",
       "    </tr>\n",
       "    <tr>\n",
       "      <th>1</th>\n",
       "      <td>id_1535</td>\n",
       "      <td>Stockholm</td>\n",
       "      <td>NaN</td>\n",
       "      <td>1537.0</td>\n",
       "      <td>4.0</td>\n",
       "      <td>NaN</td>\n",
       "      <td>10.0</td>\n",
       "      <td>[['Unique cuisine', 'Delicious Nepalese food']...</td>\n",
       "      <td>/Restaurant_Review-g189852-d7992032-Reviews-Bu...</td>\n",
       "      <td>d7992032</td>\n",
       "    </tr>\n",
       "    <tr>\n",
       "      <th>2</th>\n",
       "      <td>id_352</td>\n",
       "      <td>London</td>\n",
       "      <td>['Japanese', 'Sushi', 'Asian', 'Grill', 'Veget...</td>\n",
       "      <td>353.0</td>\n",
       "      <td>4.5</td>\n",
       "      <td>$$$$</td>\n",
       "      <td>688.0</td>\n",
       "      <td>[['Catch up with friends', 'Not exceptional'],...</td>\n",
       "      <td>/Restaurant_Review-g186338-d8632781-Reviews-RO...</td>\n",
       "      <td>d8632781</td>\n",
       "    </tr>\n",
       "    <tr>\n",
       "      <th>3</th>\n",
       "      <td>id_3456</td>\n",
       "      <td>Berlin</td>\n",
       "      <td>NaN</td>\n",
       "      <td>3458.0</td>\n",
       "      <td>5.0</td>\n",
       "      <td>NaN</td>\n",
       "      <td>3.0</td>\n",
       "      <td>[[], []]</td>\n",
       "      <td>/Restaurant_Review-g187323-d1358776-Reviews-Es...</td>\n",
       "      <td>d1358776</td>\n",
       "    </tr>\n",
       "    <tr>\n",
       "      <th>4</th>\n",
       "      <td>id_615</td>\n",
       "      <td>Munich</td>\n",
       "      <td>['German', 'Central European', 'Vegetarian Fri...</td>\n",
       "      <td>621.0</td>\n",
       "      <td>4.0</td>\n",
       "      <td>$$ - $$$</td>\n",
       "      <td>84.0</td>\n",
       "      <td>[['Best place to try a Bavarian food', 'Nice b...</td>\n",
       "      <td>/Restaurant_Review-g187309-d6864963-Reviews-Au...</td>\n",
       "      <td>d6864963</td>\n",
       "    </tr>\n",
       "  </tbody>\n",
       "</table>\n",
       "</div>"
      ],
      "text/plain": [
       "  Restaurant_id       City                                      Cuisine Style  \\\n",
       "0       id_5569      Paris            ['European', 'French', 'International']   \n",
       "1       id_1535  Stockholm                                                NaN   \n",
       "2        id_352     London  ['Japanese', 'Sushi', 'Asian', 'Grill', 'Veget...   \n",
       "3       id_3456     Berlin                                                NaN   \n",
       "4        id_615     Munich  ['German', 'Central European', 'Vegetarian Fri...   \n",
       "\n",
       "   Ranking  Rating Price Range  Number of Reviews  \\\n",
       "0   5570.0     3.5    $$ - $$$              194.0   \n",
       "1   1537.0     4.0         NaN               10.0   \n",
       "2    353.0     4.5        $$$$              688.0   \n",
       "3   3458.0     5.0         NaN                3.0   \n",
       "4    621.0     4.0    $$ - $$$               84.0   \n",
       "\n",
       "                                             Reviews  \\\n",
       "0  [['Good food at your doorstep', 'A good hotel ...   \n",
       "1  [['Unique cuisine', 'Delicious Nepalese food']...   \n",
       "2  [['Catch up with friends', 'Not exceptional'],...   \n",
       "3                                           [[], []]   \n",
       "4  [['Best place to try a Bavarian food', 'Nice b...   \n",
       "\n",
       "                                              URL_TA     ID_TA  \n",
       "0  /Restaurant_Review-g187147-d1912643-Reviews-R_...  d1912643  \n",
       "1  /Restaurant_Review-g189852-d7992032-Reviews-Bu...  d7992032  \n",
       "2  /Restaurant_Review-g186338-d8632781-Reviews-RO...  d8632781  \n",
       "3  /Restaurant_Review-g187323-d1358776-Reviews-Es...  d1358776  \n",
       "4  /Restaurant_Review-g187309-d6864963-Reviews-Au...  d6864963  "
      ]
     },
     "execution_count": 6,
     "metadata": {},
     "output_type": "execute_result"
    }
   ],
   "source": [
    "df_train.head(5)"
   ]
  },
  {
   "cell_type": "code",
   "execution_count": 7,
   "metadata": {
    "execution": {
     "iopub.execute_input": "2021-06-26T18:13:41.883596Z",
     "iopub.status.busy": "2021-06-26T18:13:41.883279Z",
     "iopub.status.idle": "2021-06-26T18:13:41.902575Z",
     "shell.execute_reply": "2021-06-26T18:13:41.901324Z",
     "shell.execute_reply.started": "2021-06-26T18:13:41.883543Z"
    }
   },
   "outputs": [
    {
     "name": "stdout",
     "output_type": "stream",
     "text": [
      "<class 'pandas.core.frame.DataFrame'>\n",
      "RangeIndex: 10000 entries, 0 to 9999\n",
      "Data columns (total 9 columns):\n",
      " #   Column             Non-Null Count  Dtype  \n",
      "---  ------             --------------  -----  \n",
      " 0   Restaurant_id      10000 non-null  object \n",
      " 1   City               10000 non-null  object \n",
      " 2   Cuisine Style      7693 non-null   object \n",
      " 3   Ranking            10000 non-null  float64\n",
      " 4   Price Range        6525 non-null   object \n",
      " 5   Number of Reviews  9343 non-null   float64\n",
      " 6   Reviews            9998 non-null   object \n",
      " 7   URL_TA             10000 non-null  object \n",
      " 8   ID_TA              10000 non-null  object \n",
      "dtypes: float64(2), object(7)\n",
      "memory usage: 703.2+ KB\n"
     ]
    }
   ],
   "source": [
    "df_test.info()"
   ]
  },
  {
   "cell_type": "code",
   "execution_count": 8,
   "metadata": {
    "execution": {
     "iopub.execute_input": "2021-06-26T18:13:41.907510Z",
     "iopub.status.busy": "2021-06-26T18:13:41.907060Z",
     "iopub.status.idle": "2021-06-26T18:13:41.926062Z",
     "shell.execute_reply": "2021-06-26T18:13:41.924823Z",
     "shell.execute_reply.started": "2021-06-26T18:13:41.907384Z"
    }
   },
   "outputs": [
    {
     "data": {
      "text/html": [
       "<div>\n",
       "<style scoped>\n",
       "    .dataframe tbody tr th:only-of-type {\n",
       "        vertical-align: middle;\n",
       "    }\n",
       "\n",
       "    .dataframe tbody tr th {\n",
       "        vertical-align: top;\n",
       "    }\n",
       "\n",
       "    .dataframe thead th {\n",
       "        text-align: right;\n",
       "    }\n",
       "</style>\n",
       "<table border=\"1\" class=\"dataframe\">\n",
       "  <thead>\n",
       "    <tr style=\"text-align: right;\">\n",
       "      <th></th>\n",
       "      <th>Restaurant_id</th>\n",
       "      <th>City</th>\n",
       "      <th>Cuisine Style</th>\n",
       "      <th>Ranking</th>\n",
       "      <th>Price Range</th>\n",
       "      <th>Number of Reviews</th>\n",
       "      <th>Reviews</th>\n",
       "      <th>URL_TA</th>\n",
       "      <th>ID_TA</th>\n",
       "    </tr>\n",
       "  </thead>\n",
       "  <tbody>\n",
       "    <tr>\n",
       "      <th>0</th>\n",
       "      <td>id_0</td>\n",
       "      <td>Paris</td>\n",
       "      <td>['Bar', 'Pub']</td>\n",
       "      <td>12963.0</td>\n",
       "      <td>$$ - $$$</td>\n",
       "      <td>4.0</td>\n",
       "      <td>[[], []]</td>\n",
       "      <td>/Restaurant_Review-g187147-d10746918-Reviews-L...</td>\n",
       "      <td>d10746918</td>\n",
       "    </tr>\n",
       "    <tr>\n",
       "      <th>1</th>\n",
       "      <td>id_1</td>\n",
       "      <td>Helsinki</td>\n",
       "      <td>['European', 'Scandinavian', 'Gluten Free Opti...</td>\n",
       "      <td>106.0</td>\n",
       "      <td>$$ - $$$</td>\n",
       "      <td>97.0</td>\n",
       "      <td>[['Very good reviews!', 'Fine dining in Hakani...</td>\n",
       "      <td>/Restaurant_Review-g189934-d6674944-Reviews-Ra...</td>\n",
       "      <td>d6674944</td>\n",
       "    </tr>\n",
       "    <tr>\n",
       "      <th>2</th>\n",
       "      <td>id_2</td>\n",
       "      <td>Edinburgh</td>\n",
       "      <td>['Vegetarian Friendly']</td>\n",
       "      <td>810.0</td>\n",
       "      <td>$$ - $$$</td>\n",
       "      <td>28.0</td>\n",
       "      <td>[['Better than the Links', 'Ivy Black'], ['12/...</td>\n",
       "      <td>/Restaurant_Review-g186525-d13129638-Reviews-B...</td>\n",
       "      <td>d13129638</td>\n",
       "    </tr>\n",
       "    <tr>\n",
       "      <th>3</th>\n",
       "      <td>id_3</td>\n",
       "      <td>London</td>\n",
       "      <td>['Italian', 'Mediterranean', 'European', 'Vege...</td>\n",
       "      <td>1669.0</td>\n",
       "      <td>$$$$</td>\n",
       "      <td>202.0</td>\n",
       "      <td>[['Most exquisite', 'Delicious and authentic']...</td>\n",
       "      <td>/Restaurant_Review-g186338-d680417-Reviews-Qui...</td>\n",
       "      <td>d680417</td>\n",
       "    </tr>\n",
       "    <tr>\n",
       "      <th>4</th>\n",
       "      <td>id_4</td>\n",
       "      <td>Bratislava</td>\n",
       "      <td>['Italian', 'Mediterranean', 'European', 'Seaf...</td>\n",
       "      <td>37.0</td>\n",
       "      <td>$$$$</td>\n",
       "      <td>162.0</td>\n",
       "      <td>[['Always the best in bratislava', 'Very good ...</td>\n",
       "      <td>/Restaurant_Review-g274924-d1112354-Reviews-Ma...</td>\n",
       "      <td>d1112354</td>\n",
       "    </tr>\n",
       "  </tbody>\n",
       "</table>\n",
       "</div>"
      ],
      "text/plain": [
       "  Restaurant_id        City  \\\n",
       "0          id_0       Paris   \n",
       "1          id_1    Helsinki   \n",
       "2          id_2   Edinburgh   \n",
       "3          id_3      London   \n",
       "4          id_4  Bratislava   \n",
       "\n",
       "                                       Cuisine Style  Ranking Price Range  \\\n",
       "0                                     ['Bar', 'Pub']  12963.0    $$ - $$$   \n",
       "1  ['European', 'Scandinavian', 'Gluten Free Opti...    106.0    $$ - $$$   \n",
       "2                            ['Vegetarian Friendly']    810.0    $$ - $$$   \n",
       "3  ['Italian', 'Mediterranean', 'European', 'Vege...   1669.0        $$$$   \n",
       "4  ['Italian', 'Mediterranean', 'European', 'Seaf...     37.0        $$$$   \n",
       "\n",
       "   Number of Reviews                                            Reviews  \\\n",
       "0                4.0                                           [[], []]   \n",
       "1               97.0  [['Very good reviews!', 'Fine dining in Hakani...   \n",
       "2               28.0  [['Better than the Links', 'Ivy Black'], ['12/...   \n",
       "3              202.0  [['Most exquisite', 'Delicious and authentic']...   \n",
       "4              162.0  [['Always the best in bratislava', 'Very good ...   \n",
       "\n",
       "                                              URL_TA      ID_TA  \n",
       "0  /Restaurant_Review-g187147-d10746918-Reviews-L...  d10746918  \n",
       "1  /Restaurant_Review-g189934-d6674944-Reviews-Ra...   d6674944  \n",
       "2  /Restaurant_Review-g186525-d13129638-Reviews-B...  d13129638  \n",
       "3  /Restaurant_Review-g186338-d680417-Reviews-Qui...    d680417  \n",
       "4  /Restaurant_Review-g274924-d1112354-Reviews-Ma...   d1112354  "
      ]
     },
     "execution_count": 8,
     "metadata": {},
     "output_type": "execute_result"
    }
   ],
   "source": [
    "df_test.head(5)"
   ]
  },
  {
   "cell_type": "code",
   "execution_count": 9,
   "metadata": {
    "execution": {
     "iopub.execute_input": "2021-06-26T18:13:41.928786Z",
     "iopub.status.busy": "2021-06-26T18:13:41.928032Z",
     "iopub.status.idle": "2021-06-26T18:13:41.942385Z",
     "shell.execute_reply": "2021-06-26T18:13:41.941470Z",
     "shell.execute_reply.started": "2021-06-26T18:13:41.928415Z"
    }
   },
   "outputs": [
    {
     "data": {
      "text/html": [
       "<div>\n",
       "<style scoped>\n",
       "    .dataframe tbody tr th:only-of-type {\n",
       "        vertical-align: middle;\n",
       "    }\n",
       "\n",
       "    .dataframe tbody tr th {\n",
       "        vertical-align: top;\n",
       "    }\n",
       "\n",
       "    .dataframe thead th {\n",
       "        text-align: right;\n",
       "    }\n",
       "</style>\n",
       "<table border=\"1\" class=\"dataframe\">\n",
       "  <thead>\n",
       "    <tr style=\"text-align: right;\">\n",
       "      <th></th>\n",
       "      <th>Restaurant_id</th>\n",
       "      <th>Rating</th>\n",
       "    </tr>\n",
       "  </thead>\n",
       "  <tbody>\n",
       "    <tr>\n",
       "      <th>0</th>\n",
       "      <td>id_0</td>\n",
       "      <td>2.0</td>\n",
       "    </tr>\n",
       "    <tr>\n",
       "      <th>1</th>\n",
       "      <td>id_1</td>\n",
       "      <td>2.5</td>\n",
       "    </tr>\n",
       "    <tr>\n",
       "      <th>2</th>\n",
       "      <td>id_2</td>\n",
       "      <td>4.0</td>\n",
       "    </tr>\n",
       "    <tr>\n",
       "      <th>3</th>\n",
       "      <td>id_3</td>\n",
       "      <td>1.0</td>\n",
       "    </tr>\n",
       "    <tr>\n",
       "      <th>4</th>\n",
       "      <td>id_4</td>\n",
       "      <td>4.0</td>\n",
       "    </tr>\n",
       "  </tbody>\n",
       "</table>\n",
       "</div>"
      ],
      "text/plain": [
       "  Restaurant_id  Rating\n",
       "0          id_0     2.0\n",
       "1          id_1     2.5\n",
       "2          id_2     4.0\n",
       "3          id_3     1.0\n",
       "4          id_4     4.0"
      ]
     },
     "execution_count": 9,
     "metadata": {},
     "output_type": "execute_result"
    }
   ],
   "source": [
    "sample_submission.head(5)"
   ]
  },
  {
   "cell_type": "code",
   "execution_count": 10,
   "metadata": {
    "execution": {
     "iopub.execute_input": "2021-06-26T18:13:41.943724Z",
     "iopub.status.busy": "2021-06-26T18:13:41.943394Z",
     "iopub.status.idle": "2021-06-26T18:13:41.960328Z",
     "shell.execute_reply": "2021-06-26T18:13:41.959545Z",
     "shell.execute_reply.started": "2021-06-26T18:13:41.943672Z"
    }
   },
   "outputs": [
    {
     "name": "stdout",
     "output_type": "stream",
     "text": [
      "<class 'pandas.core.frame.DataFrame'>\n",
      "RangeIndex: 10000 entries, 0 to 9999\n",
      "Data columns (total 2 columns):\n",
      " #   Column         Non-Null Count  Dtype  \n",
      "---  ------         --------------  -----  \n",
      " 0   Restaurant_id  10000 non-null  object \n",
      " 1   Rating         10000 non-null  float64\n",
      "dtypes: float64(1), object(1)\n",
      "memory usage: 156.4+ KB\n"
     ]
    }
   ],
   "source": [
    "sample_submission.info()"
   ]
  },
  {
   "cell_type": "code",
   "execution_count": 11,
   "metadata": {
    "execution": {
     "iopub.execute_input": "2021-06-26T18:13:41.962030Z",
     "iopub.status.busy": "2021-06-26T18:13:41.961775Z",
     "iopub.status.idle": "2021-06-26T18:13:42.019777Z",
     "shell.execute_reply": "2021-06-26T18:13:42.018713Z",
     "shell.execute_reply.started": "2021-06-26T18:13:41.961989Z"
    }
   },
   "outputs": [],
   "source": [
    "# ВАЖНО! дря корректной обработки признаков объединяем трейн и тест в один датасет\n",
    "df_train['sample'] = 1 # помечаем где у нас трейн\n",
    "df_test['sample'] = 0 # помечаем где у нас тест\n",
    "df_test['Rating'] = 0 # в тесте у нас нет значения Rating, мы его должны предсказать, по этому пока просто заполняем нулями\n",
    "\n",
    "data = df_test.append(df_train, sort=False).reset_index(drop=True) # объединяем"
   ]
  },
  {
   "cell_type": "code",
   "execution_count": 12,
   "metadata": {
    "execution": {
     "iopub.execute_input": "2021-06-26T18:13:42.021576Z",
     "iopub.status.busy": "2021-06-26T18:13:42.021294Z",
     "iopub.status.idle": "2021-06-26T18:13:42.046693Z",
     "shell.execute_reply": "2021-06-26T18:13:42.045729Z",
     "shell.execute_reply.started": "2021-06-26T18:13:42.021538Z"
    }
   },
   "outputs": [
    {
     "name": "stdout",
     "output_type": "stream",
     "text": [
      "<class 'pandas.core.frame.DataFrame'>\n",
      "RangeIndex: 50000 entries, 0 to 49999\n",
      "Data columns (total 11 columns):\n",
      " #   Column             Non-Null Count  Dtype  \n",
      "---  ------             --------------  -----  \n",
      " 0   Restaurant_id      50000 non-null  object \n",
      " 1   City               50000 non-null  object \n",
      " 2   Cuisine Style      38410 non-null  object \n",
      " 3   Ranking            50000 non-null  float64\n",
      " 4   Price Range        32639 non-null  object \n",
      " 5   Number of Reviews  46800 non-null  float64\n",
      " 6   Reviews            49998 non-null  object \n",
      " 7   URL_TA             50000 non-null  object \n",
      " 8   ID_TA              50000 non-null  object \n",
      " 9   sample             50000 non-null  int64  \n",
      " 10  Rating             50000 non-null  float64\n",
      "dtypes: float64(3), int64(1), object(7)\n",
      "memory usage: 4.2+ MB\n"
     ]
    }
   ],
   "source": [
    "data.info()"
   ]
  },
  {
   "cell_type": "markdown",
   "metadata": {},
   "source": [
    "Подробнее по признакам:\n",
    "* City: Город \n",
    "* Cuisine Style: Кухня\n",
    "* Ranking: Ранг ресторана относительно других ресторанов в этом городе\n",
    "* Price Range: Цены в ресторане в 3 категориях\n",
    "* Number of Reviews: Количество отзывов\n",
    "* Reviews: 2 последних отзыва и даты этих отзывов\n",
    "* URL_TA: страница ресторана на 'www.tripadvisor.com' \n",
    "* ID_TA: ID ресторана в TripAdvisor\n",
    "* Rating: Рейтинг ресторана"
   ]
  },
  {
   "cell_type": "code",
   "execution_count": 13,
   "metadata": {
    "execution": {
     "iopub.execute_input": "2021-06-26T18:13:42.048768Z",
     "iopub.status.busy": "2021-06-26T18:13:42.048422Z",
     "iopub.status.idle": "2021-06-26T18:13:42.072954Z",
     "shell.execute_reply": "2021-06-26T18:13:42.071954Z",
     "shell.execute_reply.started": "2021-06-26T18:13:42.048720Z"
    }
   },
   "outputs": [
    {
     "data": {
      "text/html": [
       "<div>\n",
       "<style scoped>\n",
       "    .dataframe tbody tr th:only-of-type {\n",
       "        vertical-align: middle;\n",
       "    }\n",
       "\n",
       "    .dataframe tbody tr th {\n",
       "        vertical-align: top;\n",
       "    }\n",
       "\n",
       "    .dataframe thead th {\n",
       "        text-align: right;\n",
       "    }\n",
       "</style>\n",
       "<table border=\"1\" class=\"dataframe\">\n",
       "  <thead>\n",
       "    <tr style=\"text-align: right;\">\n",
       "      <th></th>\n",
       "      <th>Restaurant_id</th>\n",
       "      <th>City</th>\n",
       "      <th>Cuisine Style</th>\n",
       "      <th>Ranking</th>\n",
       "      <th>Price Range</th>\n",
       "      <th>Number of Reviews</th>\n",
       "      <th>Reviews</th>\n",
       "      <th>URL_TA</th>\n",
       "      <th>ID_TA</th>\n",
       "      <th>sample</th>\n",
       "      <th>Rating</th>\n",
       "    </tr>\n",
       "  </thead>\n",
       "  <tbody>\n",
       "    <tr>\n",
       "      <th>5282</th>\n",
       "      <td>id_5282</td>\n",
       "      <td>Madrid</td>\n",
       "      <td>NaN</td>\n",
       "      <td>2735.0</td>\n",
       "      <td>NaN</td>\n",
       "      <td>23.0</td>\n",
       "      <td>[['Moroccan food in Madrid. Tasty Couscous!', ...</td>\n",
       "      <td>/Restaurant_Review-g187514-d10086639-Reviews-L...</td>\n",
       "      <td>d10086639</td>\n",
       "      <td>0</td>\n",
       "      <td>0.0</td>\n",
       "    </tr>\n",
       "    <tr>\n",
       "      <th>42753</th>\n",
       "      <td>id_6980</td>\n",
       "      <td>Barcelona</td>\n",
       "      <td>['Mediterranean']</td>\n",
       "      <td>6981.0</td>\n",
       "      <td>$$ - $$$</td>\n",
       "      <td>2.0</td>\n",
       "      <td>[['Culinary heaven!!!!!'], ['11/25/2017']]</td>\n",
       "      <td>/Restaurant_Review-g187497-d12996014-Reviews-L...</td>\n",
       "      <td>d12996014</td>\n",
       "      <td>1</td>\n",
       "      <td>3.0</td>\n",
       "    </tr>\n",
       "    <tr>\n",
       "      <th>39765</th>\n",
       "      <td>id_1662</td>\n",
       "      <td>Madrid</td>\n",
       "      <td>['Bar', 'Mediterranean', 'Spanish']</td>\n",
       "      <td>1664.0</td>\n",
       "      <td>$$ - $$$</td>\n",
       "      <td>132.0</td>\n",
       "      <td>[['It’s a chain, but a pleasant one', 'A taste...</td>\n",
       "      <td>/Restaurant_Review-g187514-d7249855-Reviews-Ta...</td>\n",
       "      <td>d7249855</td>\n",
       "      <td>1</td>\n",
       "      <td>4.0</td>\n",
       "    </tr>\n",
       "    <tr>\n",
       "      <th>30357</th>\n",
       "      <td>id_3340</td>\n",
       "      <td>Milan</td>\n",
       "      <td>['Italian']</td>\n",
       "      <td>3342.0</td>\n",
       "      <td>$$ - $$$</td>\n",
       "      <td>6.0</td>\n",
       "      <td>[[], []]</td>\n",
       "      <td>/Restaurant_Review-g187849-d12940625-Reviews-L...</td>\n",
       "      <td>d12940625</td>\n",
       "      <td>1</td>\n",
       "      <td>4.0</td>\n",
       "    </tr>\n",
       "    <tr>\n",
       "      <th>25467</th>\n",
       "      <td>id_845</td>\n",
       "      <td>Athens</td>\n",
       "      <td>['Mediterranean', 'Greek', 'Fast Food']</td>\n",
       "      <td>847.0</td>\n",
       "      <td>$</td>\n",
       "      <td>28.0</td>\n",
       "      <td>[['amazing food', 'Superb souvlaki'], ['10/12/...</td>\n",
       "      <td>/Restaurant_Review-g189400-d4424476-Reviews-Gr...</td>\n",
       "      <td>d4424476</td>\n",
       "      <td>1</td>\n",
       "      <td>4.5</td>\n",
       "    </tr>\n",
       "  </tbody>\n",
       "</table>\n",
       "</div>"
      ],
      "text/plain": [
       "      Restaurant_id       City                            Cuisine Style  \\\n",
       "5282        id_5282     Madrid                                      NaN   \n",
       "42753       id_6980  Barcelona                        ['Mediterranean']   \n",
       "39765       id_1662     Madrid      ['Bar', 'Mediterranean', 'Spanish']   \n",
       "30357       id_3340      Milan                              ['Italian']   \n",
       "25467        id_845     Athens  ['Mediterranean', 'Greek', 'Fast Food']   \n",
       "\n",
       "       Ranking Price Range  Number of Reviews  \\\n",
       "5282    2735.0         NaN               23.0   \n",
       "42753   6981.0    $$ - $$$                2.0   \n",
       "39765   1664.0    $$ - $$$              132.0   \n",
       "30357   3342.0    $$ - $$$                6.0   \n",
       "25467    847.0           $               28.0   \n",
       "\n",
       "                                                 Reviews  \\\n",
       "5282   [['Moroccan food in Madrid. Tasty Couscous!', ...   \n",
       "42753         [['Culinary heaven!!!!!'], ['11/25/2017']]   \n",
       "39765  [['It’s a chain, but a pleasant one', 'A taste...   \n",
       "30357                                           [[], []]   \n",
       "25467  [['amazing food', 'Superb souvlaki'], ['10/12/...   \n",
       "\n",
       "                                                  URL_TA      ID_TA  sample  \\\n",
       "5282   /Restaurant_Review-g187514-d10086639-Reviews-L...  d10086639       0   \n",
       "42753  /Restaurant_Review-g187497-d12996014-Reviews-L...  d12996014       1   \n",
       "39765  /Restaurant_Review-g187514-d7249855-Reviews-Ta...   d7249855       1   \n",
       "30357  /Restaurant_Review-g187849-d12940625-Reviews-L...  d12940625       1   \n",
       "25467  /Restaurant_Review-g189400-d4424476-Reviews-Gr...   d4424476       1   \n",
       "\n",
       "       Rating  \n",
       "5282      0.0  \n",
       "42753     3.0  \n",
       "39765     4.0  \n",
       "30357     4.0  \n",
       "25467     4.5  "
      ]
     },
     "execution_count": 13,
     "metadata": {},
     "output_type": "execute_result"
    }
   ],
   "source": [
    "data.sample(5)"
   ]
  },
  {
   "cell_type": "markdown",
   "metadata": {},
   "source": [
    "Как видим, большинство признаков у нас требует очистки и предварительной обработки."
   ]
  },
  {
   "cell_type": "code",
   "execution_count": 14,
   "metadata": {
    "execution": {
     "iopub.execute_input": "2021-06-26T18:13:42.076757Z",
     "iopub.status.busy": "2021-06-26T18:13:42.076477Z",
     "iopub.status.idle": "2021-06-26T18:13:42.085235Z",
     "shell.execute_reply": "2021-06-26T18:13:42.084011Z",
     "shell.execute_reply.started": "2021-06-26T18:13:42.076712Z"
    }
   },
   "outputs": [],
   "source": [
    "#  функция для определения границ выбросов\n",
    "def outliers (num_col):\n",
    "    IQR = data[num_col].quantile(0.75) - data[num_col].quantile(0.25)\n",
    "    perc25 = data[num_col].quantile(0.25)\n",
    "    perc75 = data[num_col].quantile(0.75)\n",
    "    f = perc25 - 1.5*IQR\n",
    "    l = perc75 + 1.5*IQR\n",
    "    anomaly = len(data[data[num_col] > l]) + len(data[data[num_col] < f]) # определяем кол-во значений попавших в выброс\n",
    "    print(\n",
    "    '25-й перцентиль: {},'.format(perc25),\n",
    "    '75-й перцентиль: {},'.format(perc75),\n",
    "    \"IQR: {}, \".format(IQR),\n",
    "    \"Границы выбросов: [{},{}]\".format(f, l))\n",
    "    print(\"Выбросов, согласно IQR: {} | {:2.2%}\".format(\n",
    "        anomaly, anomaly/len(data)))"
   ]
  },
  {
   "cell_type": "markdown",
   "metadata": {},
   "source": [
    "# Очистка и подготовка данных\n"
   ]
  },
  {
   "cell_type": "markdown",
   "metadata": {},
   "source": [
    "## 1. Обработка NAN \n"
   ]
  },
  {
   "cell_type": "markdown",
   "metadata": {},
   "source": [
    "Столбец ***Cuisine Style***.\n",
    "Содержит информацию о видах кухонь в ресторане.\n",
    "Так как вариантов и вариаций кухонь может быть бесконечное количесво заменим пропуски значение \"other\""
   ]
  },
  {
   "cell_type": "code",
   "execution_count": 15,
   "metadata": {
    "execution": {
     "iopub.execute_input": "2021-06-26T18:13:42.087949Z",
     "iopub.status.busy": "2021-06-26T18:13:42.087482Z",
     "iopub.status.idle": "2021-06-26T18:13:42.125839Z",
     "shell.execute_reply": "2021-06-26T18:13:42.124774Z",
     "shell.execute_reply.started": "2021-06-26T18:13:42.087812Z"
    }
   },
   "outputs": [
    {
     "name": "stdout",
     "output_type": "stream",
     "text": [
      "<class 'pandas.core.frame.DataFrame'>\n",
      "RangeIndex: 50000 entries, 0 to 49999\n",
      "Data columns (total 11 columns):\n",
      " #   Column             Non-Null Count  Dtype  \n",
      "---  ------             --------------  -----  \n",
      " 0   Restaurant_id      50000 non-null  object \n",
      " 1   City               50000 non-null  object \n",
      " 2   Cuisine Style      50000 non-null  object \n",
      " 3   Ranking            50000 non-null  float64\n",
      " 4   Price Range        32639 non-null  object \n",
      " 5   Number of Reviews  46800 non-null  float64\n",
      " 6   Reviews            49998 non-null  object \n",
      " 7   URL_TA             50000 non-null  object \n",
      " 8   ID_TA              50000 non-null  object \n",
      " 9   sample             50000 non-null  int64  \n",
      " 10  Rating             50000 non-null  float64\n",
      "dtypes: float64(3), int64(1), object(7)\n",
      "memory usage: 4.2+ MB\n"
     ]
    }
   ],
   "source": [
    "# Заполняем пропуски в кухнях\n",
    "data['Cuisine Style'] = data['Cuisine Style'].fillna('othen')\n",
    "data.info()"
   ]
  },
  {
   "cell_type": "markdown",
   "metadata": {},
   "source": [
    "Столбец ***Price Range***.\n",
    "Содержит информацуию об уровне цен в ресторане.\n",
    "Имеет достаточно много пропусков (около 35%).\n",
    "Будем заполнять медианой значением относительно города в котором находится ресторан.\n",
    "Так же данный признак является категориальным, но не будем пользоваться специальными функциями для создания категориального признака, а просто заменим текущее значение на числовые значения. Так как рейтинг ресторана скорее всего зависит от уровня цены в данном ресторане."
   ]
  },
  {
   "cell_type": "code",
   "execution_count": 16,
   "metadata": {
    "execution": {
     "iopub.execute_input": "2021-06-26T18:13:42.128079Z",
     "iopub.status.busy": "2021-06-26T18:13:42.127702Z",
     "iopub.status.idle": "2021-06-26T18:13:42.149525Z",
     "shell.execute_reply": "2021-06-26T18:13:42.148259Z",
     "shell.execute_reply.started": "2021-06-26T18:13:42.128011Z"
    }
   },
   "outputs": [
    {
     "data": {
      "text/plain": [
       "array(['$$ - $$$', '$$$$', '$', nan], dtype=object)"
      ]
     },
     "metadata": {},
     "output_type": "display_data"
    },
    {
     "data": {
      "text/plain": [
       "$$ - $$$    23041\n",
       "$            7816\n",
       "$$$$         1782\n",
       "Name: Price Range, dtype: int64"
      ]
     },
     "metadata": {},
     "output_type": "display_data"
    }
   ],
   "source": [
    "# определим виды цен\n",
    "display(data['Price Range'].unique())\n",
    "display(data['Price Range'].value_counts())"
   ]
  },
  {
   "cell_type": "code",
   "execution_count": 17,
   "metadata": {
    "execution": {
     "iopub.execute_input": "2021-06-26T18:13:42.151192Z",
     "iopub.status.busy": "2021-06-26T18:13:42.150952Z",
     "iopub.status.idle": "2021-06-26T18:13:42.205875Z",
     "shell.execute_reply": "2021-06-26T18:13:42.204865Z",
     "shell.execute_reply.started": "2021-06-26T18:13:42.151158Z"
    }
   },
   "outputs": [
    {
     "data": {
      "text/plain": [
       "City\n",
       "Amsterdam     2.0\n",
       "Athens        2.0\n",
       "Barcelona     2.0\n",
       "Berlin        2.0\n",
       "Bratislava    2.0\n",
       "Brussels      2.0\n",
       "Budapest      2.0\n",
       "Copenhagen    2.0\n",
       "Dublin        2.0\n",
       "Edinburgh     2.0\n",
       "Geneva        2.0\n",
       "Hamburg       2.0\n",
       "Helsinki      2.0\n",
       "Krakow        2.0\n",
       "Lisbon        2.0\n",
       "Ljubljana     2.0\n",
       "London        2.0\n",
       "Luxembourg    2.0\n",
       "Lyon          2.0\n",
       "Madrid        2.0\n",
       "Milan         2.0\n",
       "Munich        2.0\n",
       "Oporto        2.0\n",
       "Oslo          2.0\n",
       "Paris         2.0\n",
       "Prague        2.0\n",
       "Rome          2.0\n",
       "Stockholm     2.0\n",
       "Vienna        2.0\n",
       "Warsaw        2.0\n",
       "Zurich        2.0\n",
       "Name: Price Range, dtype: float64"
      ]
     },
     "metadata": {},
     "output_type": "display_data"
    }
   ],
   "source": [
    "# Price Range ЗАПОЛНЯЕМ ПРОПУСКИ\n",
    "data['Price Range'] = data['Price Range'].apply(lambda x: 1 if x == '$'else 2 if x == '$$ - $$$' else 3 if x == '$$$$' else x)\n",
    "# посмотрим средний ценовой диапозон в городах\n",
    "display(data.groupby('City').median()['Price Range'].round())\n",
    "# в городах привалирует второй тип диапозона цен, этим значением заполним пропуски\n",
    "data['Price Range'] = data['Price Range'].fillna(2)"
   ]
  },
  {
   "cell_type": "markdown",
   "metadata": {},
   "source": [
    "Столбец ***Number of Reviews***.\n",
    "Содержит информацию о кал-ве отзывово о ресторане. Содержит пропуски, но это не значит что данные пропущены, возможно их просто нет. Поэтому пропуски заполним \"0\""
   ]
  },
  {
   "cell_type": "code",
   "execution_count": 18,
   "metadata": {
    "execution": {
     "iopub.execute_input": "2021-06-26T18:13:42.207840Z",
     "iopub.status.busy": "2021-06-26T18:13:42.207399Z",
     "iopub.status.idle": "2021-06-26T18:13:42.214296Z",
     "shell.execute_reply": "2021-06-26T18:13:42.213485Z",
     "shell.execute_reply.started": "2021-06-26T18:13:42.207772Z"
    }
   },
   "outputs": [],
   "source": [
    "# заполняем пропуски\n",
    "data['Number of Reviews'] = data['Number of Reviews'].fillna(0)"
   ]
  },
  {
   "cell_type": "code",
   "execution_count": 19,
   "metadata": {
    "execution": {
     "iopub.execute_input": "2021-06-26T18:13:42.215583Z",
     "iopub.status.busy": "2021-06-26T18:13:42.215299Z",
     "iopub.status.idle": "2021-06-26T18:13:42.241679Z",
     "shell.execute_reply": "2021-06-26T18:13:42.240807Z",
     "shell.execute_reply.started": "2021-06-26T18:13:42.215530Z"
    }
   },
   "outputs": [
    {
     "name": "stdout",
     "output_type": "stream",
     "text": [
      "25-й перцентиль: 7.0, 75-й перцентиль: 105.0, IQR: 98.0,  Границы выбросов: [-140.0,252.0]\n",
      "Выбросов, согласно IQR: 5946 | 11.89%\n"
     ]
    }
   ],
   "source": [
    "# посмотрим как обстоят дела с выбросами\n",
    "outliers('Number of Reviews')"
   ]
  },
  {
   "cell_type": "code",
   "execution_count": 20,
   "metadata": {
    "execution": {
     "iopub.execute_input": "2021-06-26T18:13:42.243519Z",
     "iopub.status.busy": "2021-06-26T18:13:42.243233Z",
     "iopub.status.idle": "2021-06-26T18:13:42.666029Z",
     "shell.execute_reply": "2021-06-26T18:13:42.665245Z",
     "shell.execute_reply.started": "2021-06-26T18:13:42.243459Z"
    }
   },
   "outputs": [
    {
     "data": {
      "text/plain": [
       "<AxesSubplot:>"
      ]
     },
     "execution_count": 20,
     "metadata": {},
     "output_type": "execute_result"
    },
    {
     "data": {
      "image/png": "[encoded data removed]",
      "text/plain": [
       "<Figure size 720x504 with 1 Axes>"
      ]
     },
     "metadata": {
      "needs_background": "light"
     },
     "output_type": "display_data"
    }
   ],
   "source": [
    "# посмотрим как выглятит распределения на гистаграмме\n",
    "plt.rcParams['figure.figsize'] = (10,7)\n",
    "data['Number of Reviews'].hist(bins=100)"
   ]
  },
  {
   "cell_type": "code",
   "execution_count": 21,
   "metadata": {
    "execution": {
     "iopub.execute_input": "2021-06-26T18:13:42.668269Z",
     "iopub.status.busy": "2021-06-26T18:13:42.667691Z",
     "iopub.status.idle": "2021-06-26T18:13:43.202366Z",
     "shell.execute_reply": "2021-06-26T18:13:43.201265Z",
     "shell.execute_reply.started": "2021-06-26T18:13:42.668197Z"
    }
   },
   "outputs": [
    {
     "data": {
      "text/plain": [
       "<AxesSubplot:>"
      ]
     },
     "execution_count": 21,
     "metadata": {},
     "output_type": "execute_result"
    },
    {
     "data": {
      "image/png": "[encoded data removed]",
      "text/plain": [
       "<Figure size 1440x504 with 1 Axes>"
      ]
     },
     "metadata": {
      "needs_background": "light"
     },
     "output_type": "display_data"
    }
   ],
   "source": [
    "# попробуем нормализовать данные \n",
    "plt.rcParams['figure.figsize'] = (20,7)\n",
    "np.log(data['Number of Reviews'] + 1).hist(bins=100)"
   ]
  },
  {
   "cell_type": "code",
   "execution_count": 22,
   "metadata": {
    "execution": {
     "iopub.execute_input": "2021-06-26T18:13:43.204910Z",
     "iopub.status.busy": "2021-06-26T18:13:43.204176Z",
     "iopub.status.idle": "2021-06-26T18:13:43.234193Z",
     "shell.execute_reply": "2021-06-26T18:13:43.233249Z",
     "shell.execute_reply.started": "2021-06-26T18:13:43.204839Z"
    }
   },
   "outputs": [
    {
     "name": "stdout",
     "output_type": "stream",
     "text": [
      "25-й перцентиль: 2.0794415416798357, 75-й перцентиль: 4.663439094112067, IQR: 2.583997552432231,  Границы выбросов: [-1.7965547869685108,8.539435422760413]\n",
      "Выбросов, согласно IQR: 12 | 0.02%\n"
     ]
    }
   ],
   "source": [
    "# создадим новый  столбец с полученными данными и посмотрим как именилась ситуация с выбросами\n",
    "data['log Number of Reviews'] = np.log(data['Number of Reviews'] + 1)\n",
    "outliers('log Number of Reviews')"
   ]
  },
  {
   "cell_type": "markdown",
   "metadata": {},
   "source": [
    "Столбец ***Reviews***.\n",
    "Пока данное просто заполним пропуски"
   ]
  },
  {
   "cell_type": "code",
   "execution_count": 23,
   "metadata": {
    "execution": {
     "iopub.execute_input": "2021-06-26T18:13:43.236045Z",
     "iopub.status.busy": "2021-06-26T18:13:43.235596Z",
     "iopub.status.idle": "2021-06-26T18:13:43.247829Z",
     "shell.execute_reply": "2021-06-26T18:13:43.246818Z",
     "shell.execute_reply.started": "2021-06-26T18:13:43.235820Z"
    }
   },
   "outputs": [],
   "source": [
    "data['Reviews'] = data['Reviews'].fillna('other')"
   ]
  },
  {
   "cell_type": "code",
   "execution_count": 24,
   "metadata": {
    "execution": {
     "iopub.execute_input": "2021-06-26T18:13:43.249837Z",
     "iopub.status.busy": "2021-06-26T18:13:43.249470Z",
     "iopub.status.idle": "2021-06-26T18:13:43.277893Z",
     "shell.execute_reply": "2021-06-26T18:13:43.276640Z",
     "shell.execute_reply.started": "2021-06-26T18:13:43.249778Z"
    }
   },
   "outputs": [
    {
     "name": "stdout",
     "output_type": "stream",
     "text": [
      "<class 'pandas.core.frame.DataFrame'>\n",
      "RangeIndex: 50000 entries, 0 to 49999\n",
      "Data columns (total 12 columns):\n",
      " #   Column                 Non-Null Count  Dtype  \n",
      "---  ------                 --------------  -----  \n",
      " 0   Restaurant_id          50000 non-null  object \n",
      " 1   City                   50000 non-null  object \n",
      " 2   Cuisine Style          50000 non-null  object \n",
      " 3   Ranking                50000 non-null  float64\n",
      " 4   Price Range            50000 non-null  float64\n",
      " 5   Number of Reviews      50000 non-null  float64\n",
      " 6   Reviews                50000 non-null  object \n",
      " 7   URL_TA                 50000 non-null  object \n",
      " 8   ID_TA                  50000 non-null  object \n",
      " 9   sample                 50000 non-null  int64  \n",
      " 10  Rating                 50000 non-null  float64\n",
      " 11  log Number of Reviews  50000 non-null  float64\n",
      "dtypes: float64(5), int64(1), object(6)\n",
      "memory usage: 4.6+ MB\n"
     ]
    }
   ],
   "source": [
    "data.info()"
   ]
  },
  {
   "cell_type": "markdown",
   "metadata": {},
   "source": [
    "Все пропуски заполнены."
   ]
  },
  {
   "cell_type": "markdown",
   "metadata": {},
   "source": [
    "### 2. Обработка признаков\n",
    "Для начала посмотрим какие признаки у нас могут быть категориальными."
   ]
  },
  {
   "cell_type": "code",
   "execution_count": 25,
   "metadata": {
    "execution": {
     "iopub.execute_input": "2021-06-26T18:13:43.279622Z",
     "iopub.status.busy": "2021-06-26T18:13:43.279305Z",
     "iopub.status.idle": "2021-06-26T18:13:43.393284Z",
     "shell.execute_reply": "2021-06-26T18:13:43.392190Z",
     "shell.execute_reply.started": "2021-06-26T18:13:43.279568Z"
    }
   },
   "outputs": [
    {
     "data": {
      "text/plain": [
       "Restaurant_id            13094\n",
       "City                        31\n",
       "Cuisine Style            10732\n",
       "Ranking                  12975\n",
       "Price Range                  3\n",
       "Number of Reviews         1574\n",
       "Reviews                  41858\n",
       "URL_TA                   49963\n",
       "ID_TA                    49963\n",
       "sample                       2\n",
       "Rating                      10\n",
       "log Number of Reviews     1574\n",
       "dtype: int64"
      ]
     },
     "execution_count": 25,
     "metadata": {},
     "output_type": "execute_result"
    }
   ],
   "source": [
    "data.nunique(dropna=False)"
   ]
  },
  {
   "cell_type": "code",
   "execution_count": 26,
   "metadata": {
    "execution": {
     "iopub.execute_input": "2021-06-26T18:13:43.394874Z",
     "iopub.status.busy": "2021-06-26T18:13:43.394579Z",
     "iopub.status.idle": "2021-06-26T18:13:43.415967Z",
     "shell.execute_reply": "2021-06-26T18:13:43.414998Z",
     "shell.execute_reply.started": "2021-06-26T18:13:43.394823Z"
    }
   },
   "outputs": [],
   "source": [
    "# создадим первый категориальный признак на основе городов с помощью функции get_dummies\n",
    "dummy_city = pd.get_dummies(data.City)\n",
    "data = pd.concat([data, dummy_city], axis=1)"
   ]
  },
  {
   "cell_type": "code",
   "execution_count": 27,
   "metadata": {
    "execution": {
     "iopub.execute_input": "2021-06-26T18:13:43.417413Z",
     "iopub.status.busy": "2021-06-26T18:13:43.417198Z",
     "iopub.status.idle": "2021-06-26T18:13:43.446025Z",
     "shell.execute_reply": "2021-06-26T18:13:43.444318Z",
     "shell.execute_reply.started": "2021-06-26T18:13:43.417380Z"
    }
   },
   "outputs": [
    {
     "data": {
      "text/html": [
       "<div>\n",
       "<style scoped>\n",
       "    .dataframe tbody tr th:only-of-type {\n",
       "        vertical-align: middle;\n",
       "    }\n",
       "\n",
       "    .dataframe tbody tr th {\n",
       "        vertical-align: top;\n",
       "    }\n",
       "\n",
       "    .dataframe thead th {\n",
       "        text-align: right;\n",
       "    }\n",
       "</style>\n",
       "<table border=\"1\" class=\"dataframe\">\n",
       "  <thead>\n",
       "    <tr style=\"text-align: right;\">\n",
       "      <th></th>\n",
       "      <th>Restaurant_id</th>\n",
       "      <th>City</th>\n",
       "      <th>Cuisine Style</th>\n",
       "      <th>Ranking</th>\n",
       "      <th>Price Range</th>\n",
       "      <th>Number of Reviews</th>\n",
       "      <th>Reviews</th>\n",
       "      <th>URL_TA</th>\n",
       "      <th>ID_TA</th>\n",
       "      <th>sample</th>\n",
       "      <th>...</th>\n",
       "      <th>Munich</th>\n",
       "      <th>Oporto</th>\n",
       "      <th>Oslo</th>\n",
       "      <th>Paris</th>\n",
       "      <th>Prague</th>\n",
       "      <th>Rome</th>\n",
       "      <th>Stockholm</th>\n",
       "      <th>Vienna</th>\n",
       "      <th>Warsaw</th>\n",
       "      <th>Zurich</th>\n",
       "    </tr>\n",
       "  </thead>\n",
       "  <tbody>\n",
       "    <tr>\n",
       "      <th>0</th>\n",
       "      <td>id_0</td>\n",
       "      <td>Paris</td>\n",
       "      <td>['Bar', 'Pub']</td>\n",
       "      <td>12963.0</td>\n",
       "      <td>2.0</td>\n",
       "      <td>4.0</td>\n",
       "      <td>[[], []]</td>\n",
       "      <td>/Restaurant_Review-g187147-d10746918-Reviews-L...</td>\n",
       "      <td>d10746918</td>\n",
       "      <td>0</td>\n",
       "      <td>...</td>\n",
       "      <td>0</td>\n",
       "      <td>0</td>\n",
       "      <td>0</td>\n",
       "      <td>1</td>\n",
       "      <td>0</td>\n",
       "      <td>0</td>\n",
       "      <td>0</td>\n",
       "      <td>0</td>\n",
       "      <td>0</td>\n",
       "      <td>0</td>\n",
       "    </tr>\n",
       "    <tr>\n",
       "      <th>1</th>\n",
       "      <td>id_1</td>\n",
       "      <td>Helsinki</td>\n",
       "      <td>['European', 'Scandinavian', 'Gluten Free Opti...</td>\n",
       "      <td>106.0</td>\n",
       "      <td>2.0</td>\n",
       "      <td>97.0</td>\n",
       "      <td>[['Very good reviews!', 'Fine dining in Hakani...</td>\n",
       "      <td>/Restaurant_Review-g189934-d6674944-Reviews-Ra...</td>\n",
       "      <td>d6674944</td>\n",
       "      <td>0</td>\n",
       "      <td>...</td>\n",
       "      <td>0</td>\n",
       "      <td>0</td>\n",
       "      <td>0</td>\n",
       "      <td>0</td>\n",
       "      <td>0</td>\n",
       "      <td>0</td>\n",
       "      <td>0</td>\n",
       "      <td>0</td>\n",
       "      <td>0</td>\n",
       "      <td>0</td>\n",
       "    </tr>\n",
       "    <tr>\n",
       "      <th>2</th>\n",
       "      <td>id_2</td>\n",
       "      <td>Edinburgh</td>\n",
       "      <td>['Vegetarian Friendly']</td>\n",
       "      <td>810.0</td>\n",
       "      <td>2.0</td>\n",
       "      <td>28.0</td>\n",
       "      <td>[['Better than the Links', 'Ivy Black'], ['12/...</td>\n",
       "      <td>/Restaurant_Review-g186525-d13129638-Reviews-B...</td>\n",
       "      <td>d13129638</td>\n",
       "      <td>0</td>\n",
       "      <td>...</td>\n",
       "      <td>0</td>\n",
       "      <td>0</td>\n",
       "      <td>0</td>\n",
       "      <td>0</td>\n",
       "      <td>0</td>\n",
       "      <td>0</td>\n",
       "      <td>0</td>\n",
       "      <td>0</td>\n",
       "      <td>0</td>\n",
       "      <td>0</td>\n",
       "    </tr>\n",
       "    <tr>\n",
       "      <th>3</th>\n",
       "      <td>id_3</td>\n",
       "      <td>London</td>\n",
       "      <td>['Italian', 'Mediterranean', 'European', 'Vege...</td>\n",
       "      <td>1669.0</td>\n",
       "      <td>3.0</td>\n",
       "      <td>202.0</td>\n",
       "      <td>[['Most exquisite', 'Delicious and authentic']...</td>\n",
       "      <td>/Restaurant_Review-g186338-d680417-Reviews-Qui...</td>\n",
       "      <td>d680417</td>\n",
       "      <td>0</td>\n",
       "      <td>...</td>\n",
       "      <td>0</td>\n",
       "      <td>0</td>\n",
       "      <td>0</td>\n",
       "      <td>0</td>\n",
       "      <td>0</td>\n",
       "      <td>0</td>\n",
       "      <td>0</td>\n",
       "      <td>0</td>\n",
       "      <td>0</td>\n",
       "      <td>0</td>\n",
       "    </tr>\n",
       "    <tr>\n",
       "      <th>4</th>\n",
       "      <td>id_4</td>\n",
       "      <td>Bratislava</td>\n",
       "      <td>['Italian', 'Mediterranean', 'European', 'Seaf...</td>\n",
       "      <td>37.0</td>\n",
       "      <td>3.0</td>\n",
       "      <td>162.0</td>\n",
       "      <td>[['Always the best in bratislava', 'Very good ...</td>\n",
       "      <td>/Restaurant_Review-g274924-d1112354-Reviews-Ma...</td>\n",
       "      <td>d1112354</td>\n",
       "      <td>0</td>\n",
       "      <td>...</td>\n",
       "      <td>0</td>\n",
       "      <td>0</td>\n",
       "      <td>0</td>\n",
       "      <td>0</td>\n",
       "      <td>0</td>\n",
       "      <td>0</td>\n",
       "      <td>0</td>\n",
       "      <td>0</td>\n",
       "      <td>0</td>\n",
       "      <td>0</td>\n",
       "    </tr>\n",
       "  </tbody>\n",
       "</table>\n",
       "<p>5 rows × 43 columns</p>\n",
       "</div>"
      ],
      "text/plain": [
       "  Restaurant_id        City  \\\n",
       "0          id_0       Paris   \n",
       "1          id_1    Helsinki   \n",
       "2          id_2   Edinburgh   \n",
       "3          id_3      London   \n",
       "4          id_4  Bratislava   \n",
       "\n",
       "                                       Cuisine Style  Ranking  Price Range  \\\n",
       "0                                     ['Bar', 'Pub']  12963.0          2.0   \n",
       "1  ['European', 'Scandinavian', 'Gluten Free Opti...    106.0          2.0   \n",
       "2                            ['Vegetarian Friendly']    810.0          2.0   \n",
       "3  ['Italian', 'Mediterranean', 'European', 'Vege...   1669.0          3.0   \n",
       "4  ['Italian', 'Mediterranean', 'European', 'Seaf...     37.0          3.0   \n",
       "\n",
       "   Number of Reviews                                            Reviews  \\\n",
       "0                4.0                                           [[], []]   \n",
       "1               97.0  [['Very good reviews!', 'Fine dining in Hakani...   \n",
       "2               28.0  [['Better than the Links', 'Ivy Black'], ['12/...   \n",
       "3              202.0  [['Most exquisite', 'Delicious and authentic']...   \n",
       "4              162.0  [['Always the best in bratislava', 'Very good ...   \n",
       "\n",
       "                                              URL_TA      ID_TA  sample  ...  \\\n",
       "0  /Restaurant_Review-g187147-d10746918-Reviews-L...  d10746918       0  ...   \n",
       "1  /Restaurant_Review-g189934-d6674944-Reviews-Ra...   d6674944       0  ...   \n",
       "2  /Restaurant_Review-g186525-d13129638-Reviews-B...  d13129638       0  ...   \n",
       "3  /Restaurant_Review-g186338-d680417-Reviews-Qui...    d680417       0  ...   \n",
       "4  /Restaurant_Review-g274924-d1112354-Reviews-Ma...   d1112354       0  ...   \n",
       "\n",
       "   Munich  Oporto  Oslo  Paris  Prague  Rome  Stockholm  Vienna  Warsaw  \\\n",
       "0       0       0     0      1       0     0          0       0       0   \n",
       "1       0       0     0      0       0     0          0       0       0   \n",
       "2       0       0     0      0       0     0          0       0       0   \n",
       "3       0       0     0      0       0     0          0       0       0   \n",
       "4       0       0     0      0       0     0          0       0       0   \n",
       "\n",
       "   Zurich  \n",
       "0       0  \n",
       "1       0  \n",
       "2       0  \n",
       "3       0  \n",
       "4       0  \n",
       "\n",
       "[5 rows x 43 columns]"
      ]
     },
     "execution_count": 27,
     "metadata": {},
     "output_type": "execute_result"
    }
   ],
   "source": [
    "data.head(5)"
   ]
  },
  {
   "cell_type": "code",
   "execution_count": 28,
   "metadata": {
    "execution": {
     "iopub.execute_input": "2021-06-26T18:13:43.447764Z",
     "iopub.status.busy": "2021-06-26T18:13:43.447479Z",
     "iopub.status.idle": "2021-06-26T18:13:43.488989Z",
     "shell.execute_reply": "2021-06-26T18:13:43.487997Z",
     "shell.execute_reply.started": "2021-06-26T18:13:43.447725Z"
    }
   },
   "outputs": [
    {
     "data": {
      "text/html": [
       "<div>\n",
       "<style scoped>\n",
       "    .dataframe tbody tr th:only-of-type {\n",
       "        vertical-align: middle;\n",
       "    }\n",
       "\n",
       "    .dataframe tbody tr th {\n",
       "        vertical-align: top;\n",
       "    }\n",
       "\n",
       "    .dataframe thead th {\n",
       "        text-align: right;\n",
       "    }\n",
       "</style>\n",
       "<table border=\"1\" class=\"dataframe\">\n",
       "  <thead>\n",
       "    <tr style=\"text-align: right;\">\n",
       "      <th></th>\n",
       "      <th>Restaurant_id</th>\n",
       "      <th>City</th>\n",
       "      <th>Cuisine Style</th>\n",
       "      <th>Ranking</th>\n",
       "      <th>Price Range</th>\n",
       "      <th>Number of Reviews</th>\n",
       "      <th>Reviews</th>\n",
       "      <th>URL_TA</th>\n",
       "      <th>ID_TA</th>\n",
       "      <th>sample</th>\n",
       "      <th>...</th>\n",
       "      <th>Munich</th>\n",
       "      <th>Oporto</th>\n",
       "      <th>Oslo</th>\n",
       "      <th>Paris</th>\n",
       "      <th>Prague</th>\n",
       "      <th>Rome</th>\n",
       "      <th>Stockholm</th>\n",
       "      <th>Vienna</th>\n",
       "      <th>Warsaw</th>\n",
       "      <th>Zurich</th>\n",
       "    </tr>\n",
       "  </thead>\n",
       "  <tbody>\n",
       "    <tr>\n",
       "      <th>45759</th>\n",
       "      <td>id_888</td>\n",
       "      <td>Hamburg</td>\n",
       "      <td>['Italian', 'Pizza', 'Delicatessen']</td>\n",
       "      <td>890.0</td>\n",
       "      <td>2.0</td>\n",
       "      <td>30.0</td>\n",
       "      <td>[['Fresh and delicious Italian food!', 'Real I...</td>\n",
       "      <td>/Restaurant_Review-g187331-d954488-Reviews-Ris...</td>\n",
       "      <td>d954488</td>\n",
       "      <td>1</td>\n",
       "      <td>...</td>\n",
       "      <td>0</td>\n",
       "      <td>0</td>\n",
       "      <td>0</td>\n",
       "      <td>0</td>\n",
       "      <td>0</td>\n",
       "      <td>0</td>\n",
       "      <td>0</td>\n",
       "      <td>0</td>\n",
       "      <td>0</td>\n",
       "      <td>0</td>\n",
       "    </tr>\n",
       "    <tr>\n",
       "      <th>41540</th>\n",
       "      <td>id_2518</td>\n",
       "      <td>Berlin</td>\n",
       "      <td>othen</td>\n",
       "      <td>2520.0</td>\n",
       "      <td>2.0</td>\n",
       "      <td>10.0</td>\n",
       "      <td>[['Always good beer on tap!', 'Cool'], ['06/11...</td>\n",
       "      <td>/Restaurant_Review-g187323-d7113705-Reviews-Sl...</td>\n",
       "      <td>d7113705</td>\n",
       "      <td>1</td>\n",
       "      <td>...</td>\n",
       "      <td>0</td>\n",
       "      <td>0</td>\n",
       "      <td>0</td>\n",
       "      <td>0</td>\n",
       "      <td>0</td>\n",
       "      <td>0</td>\n",
       "      <td>0</td>\n",
       "      <td>0</td>\n",
       "      <td>0</td>\n",
       "      <td>0</td>\n",
       "    </tr>\n",
       "    <tr>\n",
       "      <th>43563</th>\n",
       "      <td>id_14395</td>\n",
       "      <td>London</td>\n",
       "      <td>['Italian']</td>\n",
       "      <td>14406.0</td>\n",
       "      <td>2.0</td>\n",
       "      <td>101.0</td>\n",
       "      <td>[['Fabulous', 'Do NOT go there'], ['12/12/2017...</td>\n",
       "      <td>/Restaurant_Review-g186338-d2043262-Reviews-La...</td>\n",
       "      <td>d2043262</td>\n",
       "      <td>1</td>\n",
       "      <td>...</td>\n",
       "      <td>0</td>\n",
       "      <td>0</td>\n",
       "      <td>0</td>\n",
       "      <td>0</td>\n",
       "      <td>0</td>\n",
       "      <td>0</td>\n",
       "      <td>0</td>\n",
       "      <td>0</td>\n",
       "      <td>0</td>\n",
       "      <td>0</td>\n",
       "    </tr>\n",
       "    <tr>\n",
       "      <th>15540</th>\n",
       "      <td>id_1440</td>\n",
       "      <td>Prague</td>\n",
       "      <td>['European', 'Czech', 'Central European', 'Bar...</td>\n",
       "      <td>1442.0</td>\n",
       "      <td>2.0</td>\n",
       "      <td>23.0</td>\n",
       "      <td>[['Hmm not sure what to think about this plac....</td>\n",
       "      <td>/Restaurant_Review-g274707-d4768729-Reviews-Na...</td>\n",
       "      <td>d4768729</td>\n",
       "      <td>1</td>\n",
       "      <td>...</td>\n",
       "      <td>0</td>\n",
       "      <td>0</td>\n",
       "      <td>0</td>\n",
       "      <td>0</td>\n",
       "      <td>1</td>\n",
       "      <td>0</td>\n",
       "      <td>0</td>\n",
       "      <td>0</td>\n",
       "      <td>0</td>\n",
       "      <td>0</td>\n",
       "    </tr>\n",
       "    <tr>\n",
       "      <th>29040</th>\n",
       "      <td>id_1346</td>\n",
       "      <td>Rome</td>\n",
       "      <td>['Chinese', 'Japanese', 'Sushi', 'Asian', 'Veg...</td>\n",
       "      <td>1347.0</td>\n",
       "      <td>2.0</td>\n",
       "      <td>517.0</td>\n",
       "      <td>[['Good soba', 'A great dinner experience!'], ...</td>\n",
       "      <td>/Restaurant_Review-g187791-d3775249-Reviews-Su...</td>\n",
       "      <td>d3775249</td>\n",
       "      <td>1</td>\n",
       "      <td>...</td>\n",
       "      <td>0</td>\n",
       "      <td>0</td>\n",
       "      <td>0</td>\n",
       "      <td>0</td>\n",
       "      <td>0</td>\n",
       "      <td>1</td>\n",
       "      <td>0</td>\n",
       "      <td>0</td>\n",
       "      <td>0</td>\n",
       "      <td>0</td>\n",
       "    </tr>\n",
       "  </tbody>\n",
       "</table>\n",
       "<p>5 rows × 43 columns</p>\n",
       "</div>"
      ],
      "text/plain": [
       "      Restaurant_id     City  \\\n",
       "45759        id_888  Hamburg   \n",
       "41540       id_2518   Berlin   \n",
       "43563      id_14395   London   \n",
       "15540       id_1440   Prague   \n",
       "29040       id_1346     Rome   \n",
       "\n",
       "                                           Cuisine Style  Ranking  \\\n",
       "45759               ['Italian', 'Pizza', 'Delicatessen']    890.0   \n",
       "41540                                              othen   2520.0   \n",
       "43563                                        ['Italian']  14406.0   \n",
       "15540  ['European', 'Czech', 'Central European', 'Bar...   1442.0   \n",
       "29040  ['Chinese', 'Japanese', 'Sushi', 'Asian', 'Veg...   1347.0   \n",
       "\n",
       "       Price Range  Number of Reviews  \\\n",
       "45759          2.0               30.0   \n",
       "41540          2.0               10.0   \n",
       "43563          2.0              101.0   \n",
       "15540          2.0               23.0   \n",
       "29040          2.0              517.0   \n",
       "\n",
       "                                                 Reviews  \\\n",
       "45759  [['Fresh and delicious Italian food!', 'Real I...   \n",
       "41540  [['Always good beer on tap!', 'Cool'], ['06/11...   \n",
       "43563  [['Fabulous', 'Do NOT go there'], ['12/12/2017...   \n",
       "15540  [['Hmm not sure what to think about this plac....   \n",
       "29040  [['Good soba', 'A great dinner experience!'], ...   \n",
       "\n",
       "                                                  URL_TA     ID_TA  sample  \\\n",
       "45759  /Restaurant_Review-g187331-d954488-Reviews-Ris...   d954488       1   \n",
       "41540  /Restaurant_Review-g187323-d7113705-Reviews-Sl...  d7113705       1   \n",
       "43563  /Restaurant_Review-g186338-d2043262-Reviews-La...  d2043262       1   \n",
       "15540  /Restaurant_Review-g274707-d4768729-Reviews-Na...  d4768729       1   \n",
       "29040  /Restaurant_Review-g187791-d3775249-Reviews-Su...  d3775249       1   \n",
       "\n",
       "       ...  Munich  Oporto  Oslo  Paris  Prague  Rome  Stockholm  Vienna  \\\n",
       "45759  ...       0       0     0      0       0     0          0       0   \n",
       "41540  ...       0       0     0      0       0     0          0       0   \n",
       "43563  ...       0       0     0      0       0     0          0       0   \n",
       "15540  ...       0       0     0      0       1     0          0       0   \n",
       "29040  ...       0       0     0      0       0     1          0       0   \n",
       "\n",
       "       Warsaw  Zurich  \n",
       "45759       0       0  \n",
       "41540       0       0  \n",
       "43563       0       0  \n",
       "15540       0       0  \n",
       "29040       0       0  \n",
       "\n",
       "[5 rows x 43 columns]"
      ]
     },
     "execution_count": 28,
     "metadata": {},
     "output_type": "execute_result"
    }
   ],
   "source": [
    "data.sample(5)"
   ]
  },
  {
   "cell_type": "markdown",
   "metadata": {},
   "source": [
    "Возьмем следующий признак \"**Cuisine Style**\"."
   ]
  },
  {
   "cell_type": "code",
   "execution_count": 29,
   "metadata": {
    "execution": {
     "iopub.execute_input": "2021-06-26T18:13:43.490956Z",
     "iopub.status.busy": "2021-06-26T18:13:43.490588Z",
     "iopub.status.idle": "2021-06-26T18:13:43.647751Z",
     "shell.execute_reply": "2021-06-26T18:13:43.646638Z",
     "shell.execute_reply.started": "2021-06-26T18:13:43.490886Z"
    }
   },
   "outputs": [],
   "source": [
    "# создадим признак по кол-ву видов кухни в ресторане\n",
    "data['Cuisine Style'] = data['Cuisine Style'].apply(lambda x: str(x).replace('[',''))\n",
    "data['Cuisine Style'] = data['Cuisine Style'].apply(lambda x: str(x).replace(']',''))\n",
    "data['Cuisine Style'] = data['Cuisine Style'].apply(lambda x: str(x).replace(' ',''))\n",
    "data['Cuisine Style'] = data['Cuisine Style'].apply(lambda x: x.split(','))\n",
    "data['cuisine_count'] = data['Cuisine Style'].apply(lambda x: len(x))"
   ]
  },
  {
   "cell_type": "markdown",
   "metadata": {},
   "source": [
    "Создадим следующий признак на основе кол-во ресторанов в городе"
   ]
  },
  {
   "cell_type": "code",
   "execution_count": 30,
   "metadata": {
    "execution": {
     "iopub.execute_input": "2021-06-26T18:13:43.648982Z",
     "iopub.status.busy": "2021-06-26T18:13:43.648760Z",
     "iopub.status.idle": "2021-06-26T18:13:43.744741Z",
     "shell.execute_reply": "2021-06-26T18:13:43.743067Z",
     "shell.execute_reply.started": "2021-06-26T18:13:43.648949Z"
    }
   },
   "outputs": [
    {
     "name": "stdout",
     "output_type": "stream",
     "text": [
      "<class 'pandas.core.frame.DataFrame'>\n",
      "Int64Index: 50000 entries, 0 to 49999\n",
      "Data columns (total 45 columns):\n",
      " #   Column                 Non-Null Count  Dtype  \n",
      "---  ------                 --------------  -----  \n",
      " 0   Restaurant_id          50000 non-null  object \n",
      " 1   City                   50000 non-null  object \n",
      " 2   Cuisine Style          50000 non-null  object \n",
      " 3   Ranking                50000 non-null  float64\n",
      " 4   Price Range            50000 non-null  float64\n",
      " 5   Number of Reviews      50000 non-null  float64\n",
      " 6   Reviews                50000 non-null  object \n",
      " 7   URL_TA                 50000 non-null  object \n",
      " 8   ID_TA                  50000 non-null  object \n",
      " 9   sample                 50000 non-null  int64  \n",
      " 10  Rating                 50000 non-null  float64\n",
      " 11  log Number of Reviews  50000 non-null  float64\n",
      " 12  Amsterdam              50000 non-null  uint8  \n",
      " 13  Athens                 50000 non-null  uint8  \n",
      " 14  Barcelona              50000 non-null  uint8  \n",
      " 15  Berlin                 50000 non-null  uint8  \n",
      " 16  Bratislava             50000 non-null  uint8  \n",
      " 17  Brussels               50000 non-null  uint8  \n",
      " 18  Budapest               50000 non-null  uint8  \n",
      " 19  Copenhagen             50000 non-null  uint8  \n",
      " 20  Dublin                 50000 non-null  uint8  \n",
      " 21  Edinburgh              50000 non-null  uint8  \n",
      " 22  Geneva                 50000 non-null  uint8  \n",
      " 23  Hamburg                50000 non-null  uint8  \n",
      " 24  Helsinki               50000 non-null  uint8  \n",
      " 25  Krakow                 50000 non-null  uint8  \n",
      " 26  Lisbon                 50000 non-null  uint8  \n",
      " 27  Ljubljana              50000 non-null  uint8  \n",
      " 28  London                 50000 non-null  uint8  \n",
      " 29  Luxembourg             50000 non-null  uint8  \n",
      " 30  Lyon                   50000 non-null  uint8  \n",
      " 31  Madrid                 50000 non-null  uint8  \n",
      " 32  Milan                  50000 non-null  uint8  \n",
      " 33  Munich                 50000 non-null  uint8  \n",
      " 34  Oporto                 50000 non-null  uint8  \n",
      " 35  Oslo                   50000 non-null  uint8  \n",
      " 36  Paris                  50000 non-null  uint8  \n",
      " 37  Prague                 50000 non-null  uint8  \n",
      " 38  Rome                   50000 non-null  uint8  \n",
      " 39  Stockholm              50000 non-null  uint8  \n",
      " 40  Vienna                 50000 non-null  uint8  \n",
      " 41  Warsaw                 50000 non-null  uint8  \n",
      " 42  Zurich                 50000 non-null  uint8  \n",
      " 43  cuisine_count          50000 non-null  int64  \n",
      " 44  rest_count             50000 non-null  int64  \n",
      "dtypes: float64(5), int64(3), object(6), uint8(31)\n",
      "memory usage: 7.2+ MB\n"
     ]
    }
   ],
   "source": [
    "data['City'].value_counts()\n",
    "rest_count = (data['City'].value_counts()).reset_index()\n",
    "rest_count.rename(columns = {'index':'City','City':'rest_count'}, inplace = True)\n",
    "data = data.merge(rest_count, on='City', how='left')\n",
    "data.info()"
   ]
  },
  {
   "cell_type": "markdown",
   "metadata": {},
   "source": [
    "Посмотрим на столбец \"**Restaurant_id**\""
   ]
  },
  {
   "cell_type": "code",
   "execution_count": 31,
   "metadata": {
    "execution": {
     "iopub.execute_input": "2021-06-26T18:13:43.746888Z",
     "iopub.status.busy": "2021-06-26T18:13:43.746407Z",
     "iopub.status.idle": "2021-06-26T18:13:43.770655Z",
     "shell.execute_reply": "2021-06-26T18:13:43.769661Z",
     "shell.execute_reply.started": "2021-06-26T18:13:43.746727Z"
    }
   },
   "outputs": [
    {
     "data": {
      "text/plain": [
       "id_436      19\n",
       "id_227      19\n",
       "id_633      19\n",
       "id_871      19\n",
       "id_585      18\n",
       "            ..\n",
       "id_9997      1\n",
       "id_6577      1\n",
       "id_10210     1\n",
       "id_9841      1\n",
       "id_13782     1\n",
       "Name: Restaurant_id, Length: 13094, dtype: int64"
      ]
     },
     "execution_count": 31,
     "metadata": {},
     "output_type": "execute_result"
    }
   ],
   "source": [
    "# есть ли повторяющихся значения в данном столбце\n",
    "data['Restaurant_id'].value_counts()"
   ]
  },
  {
   "cell_type": "code",
   "execution_count": 32,
   "metadata": {
    "execution": {
     "iopub.execute_input": "2021-06-26T18:13:43.772228Z",
     "iopub.status.busy": "2021-06-26T18:13:43.771955Z",
     "iopub.status.idle": "2021-06-26T18:13:43.776397Z",
     "shell.execute_reply": "2021-06-26T18:13:43.775184Z",
     "shell.execute_reply.started": "2021-06-26T18:13:43.772172Z"
    }
   },
   "outputs": [],
   "source": [
    "# судя по значениям есть рестораны которые являются сетевыми\n",
    "# создадми новый признак: сетевой ресторан или нет"
   ]
  },
  {
   "cell_type": "code",
   "execution_count": 33,
   "metadata": {
    "execution": {
     "iopub.execute_input": "2021-06-26T18:13:43.778395Z",
     "iopub.status.busy": "2021-06-26T18:13:43.777967Z",
     "iopub.status.idle": "2021-06-26T18:13:43.856155Z",
     "shell.execute_reply": "2021-06-26T18:13:43.855129Z",
     "shell.execute_reply.started": "2021-06-26T18:13:43.778204Z"
    }
   },
   "outputs": [],
   "source": [
    "chain = (data['Restaurant_id'].value_counts()>2).reset_index()\n",
    "chain[\"Restaurant_id\"] = chain[\"Restaurant_id\"].apply(lambda x : 1 if x==True else 0)\n",
    "chain.rename(columns = {'index':'Restaurant_id','Restaurant_id':'chain'}, inplace = True)\n",
    "data = data.merge(chain, on='Restaurant_id', how='left')"
   ]
  },
  {
   "cell_type": "code",
   "execution_count": 34,
   "metadata": {
    "execution": {
     "iopub.execute_input": "2021-06-26T18:13:43.861827Z",
     "iopub.status.busy": "2021-06-26T18:13:43.861479Z",
     "iopub.status.idle": "2021-06-26T18:13:44.188819Z",
     "shell.execute_reply": "2021-06-26T18:13:44.187793Z",
     "shell.execute_reply.started": "2021-06-26T18:13:43.861742Z"
    }
   },
   "outputs": [
    {
     "data": {
      "image/png": "[encoded data removed]",
      "text/plain": [
       "<Figure size 1440x504 with 1 Axes>"
      ]
     },
     "metadata": {
      "needs_background": "light"
     },
     "output_type": "display_data"
    }
   ],
   "source": [
    "# посмотрим что получилось по данному признаку\n",
    "ax = sns.boxplot(x=\"chain\", y=\"Rating\", data=data)"
   ]
  },
  {
   "cell_type": "markdown",
   "metadata": {},
   "source": [
    "судя по графику данный признак имеет место быть, так как видно что у сетевых ресторанов в среднем рейтинг выше чем у несетевых."
   ]
  },
  {
   "cell_type": "markdown",
   "metadata": {},
   "source": [
    "Посмотрим на столбец \"**ID_TA**\""
   ]
  },
  {
   "cell_type": "code",
   "execution_count": 35,
   "metadata": {
    "execution": {
     "iopub.execute_input": "2021-06-26T18:13:44.191510Z",
     "iopub.status.busy": "2021-06-26T18:13:44.190791Z",
     "iopub.status.idle": "2021-06-26T18:13:44.271389Z",
     "shell.execute_reply": "2021-06-26T18:13:44.270509Z",
     "shell.execute_reply.started": "2021-06-26T18:13:44.191426Z"
    }
   },
   "outputs": [
    {
     "data": {
      "text/plain": [
       "array([8, 9, 7], dtype=int64)"
      ]
     },
     "metadata": {},
     "output_type": "display_data"
    },
    {
     "data": {
      "text/plain": [
       "8    33881\n",
       "9    12041\n",
       "7     4041\n",
       "Name: index_len, dtype: int64"
      ]
     },
     "metadata": {},
     "output_type": "display_data"
    }
   ],
   "source": [
    "# посмотрим повторяются ли значения, проверим имеют ли они один формат\n",
    "df_ID_TA = data.ID_TA.value_counts()[:].reset_index()\n",
    "df_ID_TA['index_len'] = df_ID_TA['index'].apply(lambda x : len(x))\n",
    "display(df_ID_TA['index_len'].unique())\n",
    "display(df_ID_TA['index_len'].value_counts())\n",
    "\n",
    "# в итоге видим что данный столбец имеет 3 формата написания, тогда попробуем создать на данной информации новый признак"
   ]
  },
  {
   "cell_type": "code",
   "execution_count": 36,
   "metadata": {
    "execution": {
     "iopub.execute_input": "2021-06-26T18:13:44.273083Z",
     "iopub.status.busy": "2021-06-26T18:13:44.272833Z",
     "iopub.status.idle": "2021-06-26T18:13:44.375526Z",
     "shell.execute_reply": "2021-06-26T18:13:44.374346Z",
     "shell.execute_reply.started": "2021-06-26T18:13:44.273039Z"
    }
   },
   "outputs": [
    {
     "name": "stdout",
     "output_type": "stream",
     "text": [
      "<class 'pandas.core.frame.DataFrame'>\n",
      "Int64Index: 50000 entries, 0 to 49999\n",
      "Data columns (total 48 columns):\n",
      " #   Column                 Non-Null Count  Dtype  \n",
      "---  ------                 --------------  -----  \n",
      " 0   Restaurant_id          50000 non-null  object \n",
      " 1   City                   50000 non-null  object \n",
      " 2   Cuisine Style          50000 non-null  object \n",
      " 3   Ranking                50000 non-null  float64\n",
      " 4   Price Range            50000 non-null  float64\n",
      " 5   Number of Reviews      50000 non-null  float64\n",
      " 6   Reviews                50000 non-null  object \n",
      " 7   URL_TA                 50000 non-null  object \n",
      " 8   ID_TA                  50000 non-null  object \n",
      " 9   sample                 50000 non-null  int64  \n",
      " 10  Rating                 50000 non-null  float64\n",
      " 11  log Number of Reviews  50000 non-null  float64\n",
      " 12  Amsterdam              50000 non-null  uint8  \n",
      " 13  Athens                 50000 non-null  uint8  \n",
      " 14  Barcelona              50000 non-null  uint8  \n",
      " 15  Berlin                 50000 non-null  uint8  \n",
      " 16  Bratislava             50000 non-null  uint8  \n",
      " 17  Brussels               50000 non-null  uint8  \n",
      " 18  Budapest               50000 non-null  uint8  \n",
      " 19  Copenhagen             50000 non-null  uint8  \n",
      " 20  Dublin                 50000 non-null  uint8  \n",
      " 21  Edinburgh              50000 non-null  uint8  \n",
      " 22  Geneva                 50000 non-null  uint8  \n",
      " 23  Hamburg                50000 non-null  uint8  \n",
      " 24  Helsinki               50000 non-null  uint8  \n",
      " 25  Krakow                 50000 non-null  uint8  \n",
      " 26  Lisbon                 50000 non-null  uint8  \n",
      " 27  Ljubljana              50000 non-null  uint8  \n",
      " 28  London                 50000 non-null  uint8  \n",
      " 29  Luxembourg             50000 non-null  uint8  \n",
      " 30  Lyon                   50000 non-null  uint8  \n",
      " 31  Madrid                 50000 non-null  uint8  \n",
      " 32  Milan                  50000 non-null  uint8  \n",
      " 33  Munich                 50000 non-null  uint8  \n",
      " 34  Oporto                 50000 non-null  uint8  \n",
      " 35  Oslo                   50000 non-null  uint8  \n",
      " 36  Paris                  50000 non-null  uint8  \n",
      " 37  Prague                 50000 non-null  uint8  \n",
      " 38  Rome                   50000 non-null  uint8  \n",
      " 39  Stockholm              50000 non-null  uint8  \n",
      " 40  Vienna                 50000 non-null  uint8  \n",
      " 41  Warsaw                 50000 non-null  uint8  \n",
      " 42  Zurich                 50000 non-null  uint8  \n",
      " 43  cuisine_count          50000 non-null  int64  \n",
      " 44  rest_count             50000 non-null  int64  \n",
      " 45  chain                  50000 non-null  int64  \n",
      " 46  ID_TA_cnt              50000 non-null  int64  \n",
      " 47  ID_TA_len              50000 non-null  int64  \n",
      "dtypes: float64(5), int64(6), object(6), uint8(31)\n",
      "memory usage: 8.3+ MB\n"
     ]
    }
   ],
   "source": [
    "# \n",
    "df_ID_TA.rename(columns = {'index':'ID_TA','ID_TA':'ID_TA_cnt','index_len':'ID_TA_len'}, inplace = True)\n",
    "data = data.merge(df_ID_TA, on='ID_TA', how='left')\n",
    "data.info()"
   ]
  },
  {
   "cell_type": "code",
   "execution_count": 37,
   "metadata": {
    "execution": {
     "iopub.execute_input": "2021-06-26T18:13:44.377512Z",
     "iopub.status.busy": "2021-06-26T18:13:44.377064Z",
     "iopub.status.idle": "2021-06-26T18:13:44.740997Z",
     "shell.execute_reply": "2021-06-26T18:13:44.740085Z",
     "shell.execute_reply.started": "2021-06-26T18:13:44.377390Z"
    }
   },
   "outputs": [
    {
     "data": {
      "image/png": "[encoded data removed]",
      "text/plain": [
       "<Figure size 1440x504 with 1 Axes>"
      ]
     },
     "metadata": {
      "needs_background": "light"
     },
     "output_type": "display_data"
    }
   ],
   "source": [
    "ax = sns.boxplot(x=\"ID_TA_len\", y=\"Rating\", data=data)\n",
    "\n",
    "# по графику видно что группу 8 и 9 можно обьединить в одну, так как они идентичны"
   ]
  },
  {
   "cell_type": "code",
   "execution_count": 38,
   "metadata": {
    "execution": {
     "iopub.execute_input": "2021-06-26T18:13:44.742707Z",
     "iopub.status.busy": "2021-06-26T18:13:44.742420Z",
     "iopub.status.idle": "2021-06-26T18:13:44.777088Z",
     "shell.execute_reply": "2021-06-26T18:13:44.776262Z",
     "shell.execute_reply.started": "2021-06-26T18:13:44.742670Z"
    }
   },
   "outputs": [],
   "source": [
    "data['ID_TA_type']= data.ID_TA_len.apply(lambda x : 1 if x > 7 else 0)\n",
    "data.drop(['ID_TA_cnt'], axis = 1, inplace = True)\n",
    "\n",
    "# оставим признаки ID_TA_len, ID_TA_type"
   ]
  },
  {
   "cell_type": "markdown",
   "metadata": {},
   "source": [
    "### Посмотрим распределение признака"
   ]
  },
  {
   "cell_type": "code",
   "execution_count": 39,
   "metadata": {
    "execution": {
     "iopub.execute_input": "2021-06-26T18:13:44.779060Z",
     "iopub.status.busy": "2021-06-26T18:13:44.778772Z",
     "iopub.status.idle": "2021-06-26T18:13:45.231166Z",
     "shell.execute_reply": "2021-06-26T18:13:45.229563Z",
     "shell.execute_reply.started": "2021-06-26T18:13:44.779008Z"
    }
   },
   "outputs": [
    {
     "data": {
      "text/plain": [
       "<AxesSubplot:>"
      ]
     },
     "execution_count": 39,
     "metadata": {},
     "output_type": "execute_result"
    },
    {
     "data": {
      "image/png": "[encoded data removed]",
      "text/plain": [
       "<Figure size 720x504 with 1 Axes>"
      ]
     },
     "metadata": {
      "needs_background": "light"
     },
     "output_type": "display_data"
    }
   ],
   "source": [
    "plt.rcParams['figure.figsize'] = (10,7)\n",
    "df_train['Ranking'].hist(bins=100)"
   ]
  },
  {
   "cell_type": "markdown",
   "metadata": {},
   "source": [
    "У нас много ресторанов, которые не дотягивают и до 2500 места в своем городе, а что там по городам?"
   ]
  },
  {
   "cell_type": "code",
   "execution_count": 40,
   "metadata": {
    "execution": {
     "iopub.execute_input": "2021-06-26T18:13:45.233978Z",
     "iopub.status.busy": "2021-06-26T18:13:45.233299Z",
     "iopub.status.idle": "2021-06-26T18:13:45.647677Z",
     "shell.execute_reply": "2021-06-26T18:13:45.646659Z",
     "shell.execute_reply.started": "2021-06-26T18:13:45.233692Z"
    }
   },
   "outputs": [
    {
     "data": {
      "text/plain": [
       "<AxesSubplot:>"
      ]
     },
     "execution_count": 40,
     "metadata": {},
     "output_type": "execute_result"
    },
    {
     "data": {
      "image/png": "[encoded data removed]",
      "text/plain": [
       "<Figure size 720x504 with 1 Axes>"
      ]
     },
     "metadata": {
      "needs_background": "light"
     },
     "output_type": "display_data"
    }
   ],
   "source": [
    "df_train['City'].value_counts(ascending=True).plot(kind='barh')"
   ]
  },
  {
   "cell_type": "markdown",
   "metadata": {},
   "source": [
    "Посмотрим, как изменится распределение в большом городе:"
   ]
  },
  {
   "cell_type": "code",
   "execution_count": 41,
   "metadata": {
    "execution": {
     "iopub.execute_input": "2021-06-26T18:13:45.649809Z",
     "iopub.status.busy": "2021-06-26T18:13:45.649239Z",
     "iopub.status.idle": "2021-06-26T18:13:46.098824Z",
     "shell.execute_reply": "2021-06-26T18:13:46.097736Z",
     "shell.execute_reply.started": "2021-06-26T18:13:45.649748Z"
    }
   },
   "outputs": [
    {
     "data": {
      "text/plain": [
       "<AxesSubplot:>"
      ]
     },
     "execution_count": 41,
     "metadata": {},
     "output_type": "execute_result"
    },
    {
     "data": {
      "image/png": "[encoded data removed]",
      "text/plain": [
       "<Figure size 720x504 with 1 Axes>"
      ]
     },
     "metadata": {
      "needs_background": "light"
     },
     "output_type": "display_data"
    }
   ],
   "source": [
    "df_train['Ranking'][df_train['City'] =='London'].hist(bins=100)"
   ]
  },
  {
   "cell_type": "code",
   "execution_count": 42,
   "metadata": {
    "execution": {
     "iopub.execute_input": "2021-06-26T18:13:46.101036Z",
     "iopub.status.busy": "2021-06-26T18:13:46.100454Z",
     "iopub.status.idle": "2021-06-26T18:13:48.272128Z",
     "shell.execute_reply": "2021-06-26T18:13:48.271055Z",
     "shell.execute_reply.started": "2021-06-26T18:13:46.100973Z"
    }
   },
   "outputs": [
    {
     "data": {
      "image/png": "[encoded data removed]",
      "text/plain": [
       "<Figure size 720x504 with 1 Axes>"
      ]
     },
     "metadata": {
      "needs_background": "light"
     },
     "output_type": "display_data"
    }
   ],
   "source": [
    "# посмотрим на топ 10 городов\n",
    "for x in (df_train['City'].value_counts())[0:10].index:\n",
    "    df_train['Ranking'][df_train['City'] == x].hist(bins=100)\n",
    "plt.show()"
   ]
  },
  {
   "cell_type": "markdown",
   "metadata": {},
   "source": [
    "Получается, что Ranking имеет нормальное распределение, просто в больших городах больше ресторанов, из-за мы этого имеем смещение."
   ]
  },
  {
   "cell_type": "code",
   "execution_count": 43,
   "metadata": {
    "execution": {
     "iopub.execute_input": "2021-06-26T18:13:48.274358Z",
     "iopub.status.busy": "2021-06-26T18:13:48.273737Z",
     "iopub.status.idle": "2021-06-26T18:13:48.294799Z",
     "shell.execute_reply": "2021-06-26T18:13:48.293683Z",
     "shell.execute_reply.started": "2021-06-26T18:13:48.274292Z"
    }
   },
   "outputs": [],
   "source": [
    "# произведем нормализацию данных по полям Ranking и rest_count\n",
    "scaler = MinMaxScaler()#StandardScaler()\n",
    "Ranking_norm = scaler.fit_transform(data.loc[:,['Ranking','rest_count' ]])\n",
    "df_norm_Ranking = pd.DataFrame(Ranking_norm, columns = ['Ranking_norm','rest_count_norm'])\n",
    "\n",
    "data['Ranking_norm'] = df_norm_Ranking['Ranking_norm']\n",
    "data['rest_count_norm'] = df_norm_Ranking['rest_count_norm']"
   ]
  },
  {
   "cell_type": "markdown",
   "metadata": {},
   "source": [
    "### Посмотрим распределение целевой переменной"
   ]
  },
  {
   "cell_type": "code",
   "execution_count": 44,
   "metadata": {
    "execution": {
     "iopub.execute_input": "2021-06-26T18:13:48.297374Z",
     "iopub.status.busy": "2021-06-26T18:13:48.296763Z",
     "iopub.status.idle": "2021-06-26T18:13:48.561802Z",
     "shell.execute_reply": "2021-06-26T18:13:48.560756Z",
     "shell.execute_reply.started": "2021-06-26T18:13:48.297311Z"
    }
   },
   "outputs": [
    {
     "data": {
      "text/plain": [
       "<AxesSubplot:>"
      ]
     },
     "execution_count": 44,
     "metadata": {},
     "output_type": "execute_result"
    },
    {
     "data": {
      "image/png": "[encoded data removed]",
      "text/plain": [
       "<Figure size 720x504 with 1 Axes>"
      ]
     },
     "metadata": {
      "needs_background": "light"
     },
     "output_type": "display_data"
    }
   ],
   "source": [
    "df_train['Rating'].value_counts(ascending=True).plot(kind='barh')"
   ]
  },
  {
   "cell_type": "markdown",
   "metadata": {},
   "source": [
    "### Посмотрим распределение целевой переменной относительно признака"
   ]
  },
  {
   "cell_type": "code",
   "execution_count": 45,
   "metadata": {
    "execution": {
     "iopub.execute_input": "2021-06-26T18:13:48.563952Z",
     "iopub.status.busy": "2021-06-26T18:13:48.563373Z",
     "iopub.status.idle": "2021-06-26T18:13:49.031223Z",
     "shell.execute_reply": "2021-06-26T18:13:49.029900Z",
     "shell.execute_reply.started": "2021-06-26T18:13:48.563891Z"
    }
   },
   "outputs": [
    {
     "data": {
      "text/plain": [
       "<AxesSubplot:>"
      ]
     },
     "execution_count": 45,
     "metadata": {},
     "output_type": "execute_result"
    },
    {
     "data": {
      "image/png": "[encoded data removed]",
      "text/plain": [
       "<Figure size 720x504 with 1 Axes>"
      ]
     },
     "metadata": {
      "needs_background": "light"
     },
     "output_type": "display_data"
    }
   ],
   "source": [
    "df_train['Ranking'][df_train['Rating'] == 5].hist(bins=100)"
   ]
  },
  {
   "cell_type": "code",
   "execution_count": 46,
   "metadata": {
    "execution": {
     "iopub.execute_input": "2021-06-26T18:13:49.033814Z",
     "iopub.status.busy": "2021-06-26T18:13:49.033192Z",
     "iopub.status.idle": "2021-06-26T18:13:49.514172Z",
     "shell.execute_reply": "2021-06-26T18:13:49.513025Z",
     "shell.execute_reply.started": "2021-06-26T18:13:49.033579Z"
    }
   },
   "outputs": [
    {
     "data": {
      "text/plain": [
       "<AxesSubplot:>"
      ]
     },
     "execution_count": 46,
     "metadata": {},
     "output_type": "execute_result"
    },
    {
     "data": {
      "image/png": "[encoded data removed]",
      "text/plain": [
       "<Figure size 720x504 with 1 Axes>"
      ]
     },
     "metadata": {
      "needs_background": "light"
     },
     "output_type": "display_data"
    }
   ],
   "source": [
    "df_train['Ranking'][df_train['Rating'] < 4].hist(bins=100)"
   ]
  },
  {
   "cell_type": "markdown",
   "metadata": {},
   "source": [
    "На этом графике уже сейчас вы сможете заметить, как признаки связаны между собой и с целевой переменной."
   ]
  },
  {
   "cell_type": "code",
   "execution_count": 47,
   "metadata": {
    "execution": {
     "iopub.execute_input": "2021-06-26T18:13:49.517123Z",
     "iopub.status.busy": "2021-06-26T18:13:49.516250Z",
     "iopub.status.idle": "2021-06-26T18:13:50.970738Z",
     "shell.execute_reply": "2021-06-26T18:13:50.969394Z",
     "shell.execute_reply.started": "2021-06-26T18:13:49.517049Z"
    }
   },
   "outputs": [
    {
     "data": {
      "text/plain": [
       "<AxesSubplot:>"
      ]
     },
     "execution_count": 47,
     "metadata": {},
     "output_type": "execute_result"
    },
    {
     "data": {
      "image/png": "[encoded data removed]",
      "text/plain": [
       "<Figure size 1080x720 with 2 Axes>"
      ]
     },
     "metadata": {
      "needs_background": "light"
     },
     "output_type": "display_data"
    }
   ],
   "source": [
    "plt.rcParams['figure.figsize'] = (15,10)\n",
    "sns.heatmap(data.drop(['sample'], axis=1).corr(),)"
   ]
  },
  {
   "cell_type": "markdown",
   "metadata": {},
   "source": [
    "# Data Preprocessing"
   ]
  },
  {
   "cell_type": "code",
   "execution_count": 48,
   "metadata": {
    "execution": {
     "iopub.execute_input": "2021-06-26T18:13:50.973896Z",
     "iopub.status.busy": "2021-06-26T18:13:50.972798Z",
     "iopub.status.idle": "2021-06-26T18:13:51.053229Z",
     "shell.execute_reply": "2021-06-26T18:13:51.052502Z",
     "shell.execute_reply.started": "2021-06-26T18:13:50.973803Z"
    }
   },
   "outputs": [
    {
     "data": {
      "text/html": [
       "<div>\n",
       "<style scoped>\n",
       "    .dataframe tbody tr th:only-of-type {\n",
       "        vertical-align: middle;\n",
       "    }\n",
       "\n",
       "    .dataframe tbody tr th {\n",
       "        vertical-align: top;\n",
       "    }\n",
       "\n",
       "    .dataframe thead th {\n",
       "        text-align: right;\n",
       "    }\n",
       "</style>\n",
       "<table border=\"1\" class=\"dataframe\">\n",
       "  <thead>\n",
       "    <tr style=\"text-align: right;\">\n",
       "      <th></th>\n",
       "      <th>Price Range</th>\n",
       "      <th>sample</th>\n",
       "      <th>Rating</th>\n",
       "      <th>log Number of Reviews</th>\n",
       "      <th>Amsterdam</th>\n",
       "      <th>Athens</th>\n",
       "      <th>Barcelona</th>\n",
       "      <th>Berlin</th>\n",
       "      <th>Bratislava</th>\n",
       "      <th>Brussels</th>\n",
       "      <th>...</th>\n",
       "      <th>Stockholm</th>\n",
       "      <th>Vienna</th>\n",
       "      <th>Warsaw</th>\n",
       "      <th>Zurich</th>\n",
       "      <th>cuisine_count</th>\n",
       "      <th>chain</th>\n",
       "      <th>ID_TA_len</th>\n",
       "      <th>ID_TA_type</th>\n",
       "      <th>Ranking_norm</th>\n",
       "      <th>rest_count_norm</th>\n",
       "    </tr>\n",
       "  </thead>\n",
       "  <tbody>\n",
       "    <tr>\n",
       "      <th>0</th>\n",
       "      <td>2.0</td>\n",
       "      <td>0</td>\n",
       "      <td>0.0</td>\n",
       "      <td>1.609438</td>\n",
       "      <td>0</td>\n",
       "      <td>0</td>\n",
       "      <td>0</td>\n",
       "      <td>0</td>\n",
       "      <td>0</td>\n",
       "      <td>0</td>\n",
       "      <td>...</td>\n",
       "      <td>0</td>\n",
       "      <td>0</td>\n",
       "      <td>0</td>\n",
       "      <td>0</td>\n",
       "      <td>2</td>\n",
       "      <td>1</td>\n",
       "      <td>9</td>\n",
       "      <td>1</td>\n",
       "      <td>0.788299</td>\n",
       "      <td>0.844355</td>\n",
       "    </tr>\n",
       "    <tr>\n",
       "      <th>1</th>\n",
       "      <td>2.0</td>\n",
       "      <td>0</td>\n",
       "      <td>0.0</td>\n",
       "      <td>4.584967</td>\n",
       "      <td>0</td>\n",
       "      <td>0</td>\n",
       "      <td>0</td>\n",
       "      <td>0</td>\n",
       "      <td>0</td>\n",
       "      <td>0</td>\n",
       "      <td>...</td>\n",
       "      <td>0</td>\n",
       "      <td>0</td>\n",
       "      <td>0</td>\n",
       "      <td>0</td>\n",
       "      <td>5</td>\n",
       "      <td>1</td>\n",
       "      <td>8</td>\n",
       "      <td>1</td>\n",
       "      <td>0.006386</td>\n",
       "      <td>0.036293</td>\n",
       "    </tr>\n",
       "    <tr>\n",
       "      <th>2</th>\n",
       "      <td>2.0</td>\n",
       "      <td>0</td>\n",
       "      <td>0.0</td>\n",
       "      <td>3.367296</td>\n",
       "      <td>0</td>\n",
       "      <td>0</td>\n",
       "      <td>0</td>\n",
       "      <td>0</td>\n",
       "      <td>0</td>\n",
       "      <td>0</td>\n",
       "      <td>...</td>\n",
       "      <td>0</td>\n",
       "      <td>0</td>\n",
       "      <td>0</td>\n",
       "      <td>0</td>\n",
       "      <td>1</td>\n",
       "      <td>1</td>\n",
       "      <td>9</td>\n",
       "      <td>1</td>\n",
       "      <td>0.049200</td>\n",
       "      <td>0.075025</td>\n",
       "    </tr>\n",
       "    <tr>\n",
       "      <th>3</th>\n",
       "      <td>3.0</td>\n",
       "      <td>0</td>\n",
       "      <td>0.0</td>\n",
       "      <td>5.313206</td>\n",
       "      <td>0</td>\n",
       "      <td>0</td>\n",
       "      <td>0</td>\n",
       "      <td>0</td>\n",
       "      <td>0</td>\n",
       "      <td>0</td>\n",
       "      <td>...</td>\n",
       "      <td>0</td>\n",
       "      <td>0</td>\n",
       "      <td>0</td>\n",
       "      <td>0</td>\n",
       "      <td>5</td>\n",
       "      <td>1</td>\n",
       "      <td>7</td>\n",
       "      <td>0</td>\n",
       "      <td>0.101441</td>\n",
       "      <td>1.000000</td>\n",
       "    </tr>\n",
       "    <tr>\n",
       "      <th>4</th>\n",
       "      <td>3.0</td>\n",
       "      <td>0</td>\n",
       "      <td>0.0</td>\n",
       "      <td>5.093750</td>\n",
       "      <td>0</td>\n",
       "      <td>0</td>\n",
       "      <td>0</td>\n",
       "      <td>0</td>\n",
       "      <td>1</td>\n",
       "      <td>0</td>\n",
       "      <td>...</td>\n",
       "      <td>0</td>\n",
       "      <td>0</td>\n",
       "      <td>0</td>\n",
       "      <td>0</td>\n",
       "      <td>6</td>\n",
       "      <td>1</td>\n",
       "      <td>8</td>\n",
       "      <td>1</td>\n",
       "      <td>0.002189</td>\n",
       "      <td>0.022665</td>\n",
       "    </tr>\n",
       "    <tr>\n",
       "      <th>...</th>\n",
       "      <td>...</td>\n",
       "      <td>...</td>\n",
       "      <td>...</td>\n",
       "      <td>...</td>\n",
       "      <td>...</td>\n",
       "      <td>...</td>\n",
       "      <td>...</td>\n",
       "      <td>...</td>\n",
       "      <td>...</td>\n",
       "      <td>...</td>\n",
       "      <td>...</td>\n",
       "      <td>...</td>\n",
       "      <td>...</td>\n",
       "      <td>...</td>\n",
       "      <td>...</td>\n",
       "      <td>...</td>\n",
       "      <td>...</td>\n",
       "      <td>...</td>\n",
       "      <td>...</td>\n",
       "      <td>...</td>\n",
       "      <td>...</td>\n",
       "    </tr>\n",
       "    <tr>\n",
       "      <th>49995</th>\n",
       "      <td>2.0</td>\n",
       "      <td>1</td>\n",
       "      <td>4.5</td>\n",
       "      <td>4.382027</td>\n",
       "      <td>0</td>\n",
       "      <td>0</td>\n",
       "      <td>0</td>\n",
       "      <td>0</td>\n",
       "      <td>0</td>\n",
       "      <td>0</td>\n",
       "      <td>...</td>\n",
       "      <td>0</td>\n",
       "      <td>0</td>\n",
       "      <td>0</td>\n",
       "      <td>0</td>\n",
       "      <td>4</td>\n",
       "      <td>1</td>\n",
       "      <td>8</td>\n",
       "      <td>1</td>\n",
       "      <td>0.030347</td>\n",
       "      <td>0.354612</td>\n",
       "    </tr>\n",
       "    <tr>\n",
       "      <th>49996</th>\n",
       "      <td>2.0</td>\n",
       "      <td>1</td>\n",
       "      <td>3.5</td>\n",
       "      <td>6.297109</td>\n",
       "      <td>0</td>\n",
       "      <td>0</td>\n",
       "      <td>0</td>\n",
       "      <td>0</td>\n",
       "      <td>0</td>\n",
       "      <td>0</td>\n",
       "      <td>...</td>\n",
       "      <td>0</td>\n",
       "      <td>0</td>\n",
       "      <td>0</td>\n",
       "      <td>0</td>\n",
       "      <td>5</td>\n",
       "      <td>1</td>\n",
       "      <td>8</td>\n",
       "      <td>1</td>\n",
       "      <td>0.385574</td>\n",
       "      <td>0.844355</td>\n",
       "    </tr>\n",
       "    <tr>\n",
       "      <th>49997</th>\n",
       "      <td>2.0</td>\n",
       "      <td>1</td>\n",
       "      <td>4.5</td>\n",
       "      <td>1.609438</td>\n",
       "      <td>0</td>\n",
       "      <td>0</td>\n",
       "      <td>0</td>\n",
       "      <td>0</td>\n",
       "      <td>0</td>\n",
       "      <td>0</td>\n",
       "      <td>...</td>\n",
       "      <td>1</td>\n",
       "      <td>0</td>\n",
       "      <td>0</td>\n",
       "      <td>0</td>\n",
       "      <td>2</td>\n",
       "      <td>1</td>\n",
       "      <td>7</td>\n",
       "      <td>0</td>\n",
       "      <td>0.100407</td>\n",
       "      <td>0.116339</td>\n",
       "    </tr>\n",
       "    <tr>\n",
       "      <th>49998</th>\n",
       "      <td>2.0</td>\n",
       "      <td>1</td>\n",
       "      <td>4.0</td>\n",
       "      <td>4.262680</td>\n",
       "      <td>0</td>\n",
       "      <td>0</td>\n",
       "      <td>0</td>\n",
       "      <td>0</td>\n",
       "      <td>0</td>\n",
       "      <td>0</td>\n",
       "      <td>...</td>\n",
       "      <td>0</td>\n",
       "      <td>0</td>\n",
       "      <td>1</td>\n",
       "      <td>0</td>\n",
       "      <td>5</td>\n",
       "      <td>1</td>\n",
       "      <td>8</td>\n",
       "      <td>1</td>\n",
       "      <td>0.038922</td>\n",
       "      <td>0.100846</td>\n",
       "    </tr>\n",
       "    <tr>\n",
       "      <th>49999</th>\n",
       "      <td>2.0</td>\n",
       "      <td>1</td>\n",
       "      <td>3.0</td>\n",
       "      <td>5.564520</td>\n",
       "      <td>0</td>\n",
       "      <td>0</td>\n",
       "      <td>0</td>\n",
       "      <td>0</td>\n",
       "      <td>0</td>\n",
       "      <td>0</td>\n",
       "      <td>...</td>\n",
       "      <td>0</td>\n",
       "      <td>0</td>\n",
       "      <td>0</td>\n",
       "      <td>0</td>\n",
       "      <td>1</td>\n",
       "      <td>1</td>\n",
       "      <td>8</td>\n",
       "      <td>1</td>\n",
       "      <td>0.293499</td>\n",
       "      <td>0.354612</td>\n",
       "    </tr>\n",
       "  </tbody>\n",
       "</table>\n",
       "<p>50000 rows × 41 columns</p>\n",
       "</div>"
      ],
      "text/plain": [
       "       Price Range  sample  Rating  log Number of Reviews  Amsterdam  Athens  \\\n",
       "0              2.0       0     0.0               1.609438          0       0   \n",
       "1              2.0       0     0.0               4.584967          0       0   \n",
       "2              2.0       0     0.0               3.367296          0       0   \n",
       "3              3.0       0     0.0               5.313206          0       0   \n",
       "4              3.0       0     0.0               5.093750          0       0   \n",
       "...            ...     ...     ...                    ...        ...     ...   \n",
       "49995          2.0       1     4.5               4.382027          0       0   \n",
       "49996          2.0       1     3.5               6.297109          0       0   \n",
       "49997          2.0       1     4.5               1.609438          0       0   \n",
       "49998          2.0       1     4.0               4.262680          0       0   \n",
       "49999          2.0       1     3.0               5.564520          0       0   \n",
       "\n",
       "       Barcelona  Berlin  Bratislava  Brussels  ...  Stockholm  Vienna  \\\n",
       "0              0       0           0         0  ...          0       0   \n",
       "1              0       0           0         0  ...          0       0   \n",
       "2              0       0           0         0  ...          0       0   \n",
       "3              0       0           0         0  ...          0       0   \n",
       "4              0       0           1         0  ...          0       0   \n",
       "...          ...     ...         ...       ...  ...        ...     ...   \n",
       "49995          0       0           0         0  ...          0       0   \n",
       "49996          0       0           0         0  ...          0       0   \n",
       "49997          0       0           0         0  ...          1       0   \n",
       "49998          0       0           0         0  ...          0       0   \n",
       "49999          0       0           0         0  ...          0       0   \n",
       "\n",
       "       Warsaw  Zurich  cuisine_count  chain  ID_TA_len  ID_TA_type  \\\n",
       "0           0       0              2      1          9           1   \n",
       "1           0       0              5      1          8           1   \n",
       "2           0       0              1      1          9           1   \n",
       "3           0       0              5      1          7           0   \n",
       "4           0       0              6      1          8           1   \n",
       "...       ...     ...            ...    ...        ...         ...   \n",
       "49995       0       0              4      1          8           1   \n",
       "49996       0       0              5      1          8           1   \n",
       "49997       0       0              2      1          7           0   \n",
       "49998       1       0              5      1          8           1   \n",
       "49999       0       0              1      1          8           1   \n",
       "\n",
       "       Ranking_norm  rest_count_norm  \n",
       "0          0.788299         0.844355  \n",
       "1          0.006386         0.036293  \n",
       "2          0.049200         0.075025  \n",
       "3          0.101441         1.000000  \n",
       "4          0.002189         0.022665  \n",
       "...             ...              ...  \n",
       "49995      0.030347         0.354612  \n",
       "49996      0.385574         0.844355  \n",
       "49997      0.100407         0.116339  \n",
       "49998      0.038922         0.100846  \n",
       "49999      0.293499         0.354612  \n",
       "\n",
       "[50000 rows x 41 columns]"
      ]
     },
     "execution_count": 48,
     "metadata": {},
     "output_type": "execute_result"
    }
   ],
   "source": [
    "df_preproc = data.copy()\n",
    "df_preproc = df_preproc.drop(['Restaurant_id', 'City', 'Cuisine Style','Reviews','URL_TA','ID_TA','Number of Reviews','Ranking','rest_count'], axis=1)\n",
    "train_data = df_preproc.query('sample == 1').drop(['sample'], axis=1)\n",
    "test_data = df_preproc.query('sample == 0').drop(['sample'], axis=1)\n",
    "\n",
    "y = train_data.Rating.values            # наш таргет\n",
    "X = train_data.drop(['Rating'], axis=1)\n",
    "df_preproc"
   ]
  },
  {
   "cell_type": "markdown",
   "metadata": {},
   "source": [
    "**Перед тем как отправлять наши данные на обучение, разделим данные на еще один тест и трейн, для валидации. \n",
    "Это поможет нам проверить, как хорошо наша модель работает, до отправки submissiona на kaggle.**"
   ]
  },
  {
   "cell_type": "code",
   "execution_count": 49,
   "metadata": {
    "execution": {
     "iopub.execute_input": "2021-06-26T18:13:51.054953Z",
     "iopub.status.busy": "2021-06-26T18:13:51.054488Z",
     "iopub.status.idle": "2021-06-26T18:13:51.069020Z",
     "shell.execute_reply": "2021-06-26T18:13:51.068311Z",
     "shell.execute_reply.started": "2021-06-26T18:13:51.054910Z"
    }
   },
   "outputs": [],
   "source": [
    "# Воспользуемся специальной функцие train_test_split для разбивки тестовых данных\n",
    "# выделим 20% данных на валидацию (параметр test_size)\n",
    "X_train, X_test, y_train, y_test = train_test_split(X, y, test_size=0.2, random_state=RANDOM_SEED)"
   ]
  },
  {
   "cell_type": "code",
   "execution_count": 50,
   "metadata": {
    "execution": {
     "iopub.execute_input": "2021-06-26T18:13:51.070831Z",
     "iopub.status.busy": "2021-06-26T18:13:51.070211Z",
     "iopub.status.idle": "2021-06-26T18:13:51.076373Z",
     "shell.execute_reply": "2021-06-26T18:13:51.075688Z",
     "shell.execute_reply.started": "2021-06-26T18:13:51.070732Z"
    }
   },
   "outputs": [
    {
     "data": {
      "text/plain": [
       "((10000, 40), (40000, 40), (40000, 39), (32000, 39), (8000, 39))"
      ]
     },
     "execution_count": 50,
     "metadata": {},
     "output_type": "execute_result"
    }
   ],
   "source": [
    "# проверяем\n",
    "test_data.shape, train_data.shape, X.shape, X_train.shape, X_test.shape"
   ]
  },
  {
   "cell_type": "markdown",
   "metadata": {},
   "source": [
    "# Model \n",
    "Сам ML"
   ]
  },
  {
   "cell_type": "code",
   "execution_count": 51,
   "metadata": {
    "execution": {
     "iopub.execute_input": "2021-06-26T18:13:51.077761Z",
     "iopub.status.busy": "2021-06-26T18:13:51.077360Z",
     "iopub.status.idle": "2021-06-26T18:13:51.089146Z",
     "shell.execute_reply": "2021-06-26T18:13:51.088109Z",
     "shell.execute_reply.started": "2021-06-26T18:13:51.077721Z"
    }
   },
   "outputs": [],
   "source": [
    "# Импортируем необходимые библиотеки:\n",
    "from sklearn.ensemble import RandomForestRegressor # инструмент для создания и обучения модели\n",
    "from sklearn import metrics # инструменты для оценки точности модели"
   ]
  },
  {
   "cell_type": "code",
   "execution_count": 52,
   "metadata": {
    "execution": {
     "iopub.execute_input": "2021-06-26T18:13:51.091561Z",
     "iopub.status.busy": "2021-06-26T18:13:51.090875Z",
     "iopub.status.idle": "2021-06-26T18:13:51.104648Z",
     "shell.execute_reply": "2021-06-26T18:13:51.103501Z",
     "shell.execute_reply.started": "2021-06-26T18:13:51.091497Z"
    }
   },
   "outputs": [],
   "source": [
    "# Создаём модель (НАСТРОЙКИ НЕ ТРОГАЕМ)\n",
    "model = RandomForestRegressor(n_estimators=100, verbose=1, n_jobs=-1, random_state=RANDOM_SEED)"
   ]
  },
  {
   "cell_type": "code",
   "execution_count": 53,
   "metadata": {
    "execution": {
     "iopub.execute_input": "2021-06-26T18:13:51.106922Z",
     "iopub.status.busy": "2021-06-26T18:13:51.106534Z",
     "iopub.status.idle": "2021-06-26T18:13:56.294558Z",
     "shell.execute_reply": "2021-06-26T18:13:56.293687Z",
     "shell.execute_reply.started": "2021-06-26T18:13:51.106852Z"
    }
   },
   "outputs": [
    {
     "name": "stderr",
     "output_type": "stream",
     "text": [
      "[Parallel(n_jobs=-1)]: Using backend ThreadingBackend with 4 concurrent workers.\n",
      "[Parallel(n_jobs=-1)]: Done  42 tasks      | elapsed:    3.8s\n",
      "[Parallel(n_jobs=-1)]: Done 100 out of 100 | elapsed:    9.1s finished\n",
      "[Parallel(n_jobs=4)]: Using backend ThreadingBackend with 4 concurrent workers.\n",
      "[Parallel(n_jobs=4)]: Done  42 tasks      | elapsed:    0.0s\n",
      "[Parallel(n_jobs=4)]: Done 100 out of 100 | elapsed:    0.1s finished\n"
     ]
    }
   ],
   "source": [
    "# Обучаем модель на тестовом наборе данных\n",
    "model.fit(X_train, y_train)\n",
    "\n",
    "# Используем обученную модель для предсказания рейтинга ресторанов в тестовой выборке.\n",
    "# Предсказанные значения записываем в переменную y_pred\n",
    "y_pred = model.predict(X_test)"
   ]
  },
  {
   "cell_type": "code",
   "execution_count": 54,
   "metadata": {
    "execution": {
     "iopub.execute_input": "2021-06-26T18:13:56.296054Z",
     "iopub.status.busy": "2021-06-26T18:13:56.295816Z",
     "iopub.status.idle": "2021-06-26T18:13:56.300607Z",
     "shell.execute_reply": "2021-06-26T18:13:56.299760Z",
     "shell.execute_reply.started": "2021-06-26T18:13:56.296006Z"
    }
   },
   "outputs": [],
   "source": [
    "# Так как признак рейтинга имеет шаг 0.5, округляем предсказание.\n",
    "y_pred = np.round(y_pred * 2) / 2"
   ]
  },
  {
   "cell_type": "code",
   "execution_count": 55,
   "metadata": {
    "execution": {
     "iopub.execute_input": "2021-06-26T18:13:56.302456Z",
     "iopub.status.busy": "2021-06-26T18:13:56.301834Z",
     "iopub.status.idle": "2021-06-26T18:13:56.320551Z",
     "shell.execute_reply": "2021-06-26T18:13:56.319461Z",
     "shell.execute_reply.started": "2021-06-26T18:13:56.302389Z"
    }
   },
   "outputs": [
    {
     "name": "stdout",
     "output_type": "stream",
     "text": [
      "MAE: 0.1808125\n"
     ]
    }
   ],
   "source": [
    "# Сравниваем предсказанные значения (y_pred) с реальными (y_test), и смотрим насколько они в среднем отличаются\n",
    "# Метрика называется Mean Absolute Error (MAE) и показывает среднее отклонение предсказанных значений от фактических.\n",
    "print('MAE:', metrics.mean_absolute_error(y_test, y_pred))"
   ]
  },
  {
   "cell_type": "code",
   "execution_count": 56,
   "metadata": {
    "execution": {
     "iopub.execute_input": "2021-06-26T18:13:56.322066Z",
     "iopub.status.busy": "2021-06-26T18:13:56.321811Z",
     "iopub.status.idle": "2021-06-26T18:13:56.756638Z",
     "shell.execute_reply": "2021-06-26T18:13:56.755494Z",
     "shell.execute_reply.started": "2021-06-26T18:13:56.322017Z"
    }
   },
   "outputs": [
    {
     "data": {
      "text/plain": [
       "<AxesSubplot:>"
      ]
     },
     "execution_count": 56,
     "metadata": {},
     "output_type": "execute_result"
    },
    {
     "data": {
      "image/png": "[encoded data removed]",
      "text/plain": [
       "<Figure size 720x720 with 1 Axes>"
      ]
     },
     "metadata": {
      "needs_background": "light"
     },
     "output_type": "display_data"
    }
   ],
   "source": [
    "# в RandomForestRegressor есть возможность вывести самые важные признаки для модели\n",
    "plt.rcParams['figure.figsize'] = (10,10)\n",
    "feat_importances = pd.Series(model.feature_importances_, index=X.columns)\n",
    "feat_importances.nlargest(15).plot(kind='barh')"
   ]
  },
  {
   "cell_type": "markdown",
   "metadata": {},
   "source": [
    "# Submission\n",
    "Если все устраевает - готовим Submission на кагл"
   ]
  },
  {
   "cell_type": "code",
   "execution_count": 57,
   "metadata": {
    "execution": {
     "iopub.execute_input": "2021-06-26T18:13:56.758839Z",
     "iopub.status.busy": "2021-06-26T18:13:56.758287Z",
     "iopub.status.idle": "2021-06-26T18:13:56.787227Z",
     "shell.execute_reply": "2021-06-26T18:13:56.786236Z",
     "shell.execute_reply.started": "2021-06-26T18:13:56.758781Z"
    }
   },
   "outputs": [
    {
     "data": {
      "text/html": [
       "<div>\n",
       "<style scoped>\n",
       "    .dataframe tbody tr th:only-of-type {\n",
       "        vertical-align: middle;\n",
       "    }\n",
       "\n",
       "    .dataframe tbody tr th {\n",
       "        vertical-align: top;\n",
       "    }\n",
       "\n",
       "    .dataframe thead th {\n",
       "        text-align: right;\n",
       "    }\n",
       "</style>\n",
       "<table border=\"1\" class=\"dataframe\">\n",
       "  <thead>\n",
       "    <tr style=\"text-align: right;\">\n",
       "      <th></th>\n",
       "      <th>Price Range</th>\n",
       "      <th>Rating</th>\n",
       "      <th>log Number of Reviews</th>\n",
       "      <th>Amsterdam</th>\n",
       "      <th>Athens</th>\n",
       "      <th>Barcelona</th>\n",
       "      <th>Berlin</th>\n",
       "      <th>Bratislava</th>\n",
       "      <th>Brussels</th>\n",
       "      <th>Budapest</th>\n",
       "      <th>...</th>\n",
       "      <th>Stockholm</th>\n",
       "      <th>Vienna</th>\n",
       "      <th>Warsaw</th>\n",
       "      <th>Zurich</th>\n",
       "      <th>cuisine_count</th>\n",
       "      <th>chain</th>\n",
       "      <th>ID_TA_len</th>\n",
       "      <th>ID_TA_type</th>\n",
       "      <th>Ranking_norm</th>\n",
       "      <th>rest_count_norm</th>\n",
       "    </tr>\n",
       "  </thead>\n",
       "  <tbody>\n",
       "    <tr>\n",
       "      <th>8173</th>\n",
       "      <td>2.0</td>\n",
       "      <td>0.0</td>\n",
       "      <td>3.637586</td>\n",
       "      <td>0</td>\n",
       "      <td>0</td>\n",
       "      <td>0</td>\n",
       "      <td>0</td>\n",
       "      <td>0</td>\n",
       "      <td>0</td>\n",
       "      <td>0</td>\n",
       "      <td>...</td>\n",
       "      <td>0</td>\n",
       "      <td>0</td>\n",
       "      <td>0</td>\n",
       "      <td>0</td>\n",
       "      <td>1</td>\n",
       "      <td>0</td>\n",
       "      <td>8</td>\n",
       "      <td>1</td>\n",
       "      <td>0.697987</td>\n",
       "      <td>0.844355</td>\n",
       "    </tr>\n",
       "    <tr>\n",
       "      <th>5262</th>\n",
       "      <td>2.0</td>\n",
       "      <td>0.0</td>\n",
       "      <td>4.356709</td>\n",
       "      <td>0</td>\n",
       "      <td>0</td>\n",
       "      <td>0</td>\n",
       "      <td>0</td>\n",
       "      <td>0</td>\n",
       "      <td>0</td>\n",
       "      <td>0</td>\n",
       "      <td>...</td>\n",
       "      <td>0</td>\n",
       "      <td>0</td>\n",
       "      <td>0</td>\n",
       "      <td>0</td>\n",
       "      <td>3</td>\n",
       "      <td>1</td>\n",
       "      <td>8</td>\n",
       "      <td>1</td>\n",
       "      <td>0.138661</td>\n",
       "      <td>0.354612</td>\n",
       "    </tr>\n",
       "    <tr>\n",
       "      <th>8799</th>\n",
       "      <td>2.0</td>\n",
       "      <td>0.0</td>\n",
       "      <td>2.564949</td>\n",
       "      <td>0</td>\n",
       "      <td>0</td>\n",
       "      <td>0</td>\n",
       "      <td>0</td>\n",
       "      <td>0</td>\n",
       "      <td>0</td>\n",
       "      <td>0</td>\n",
       "      <td>...</td>\n",
       "      <td>1</td>\n",
       "      <td>0</td>\n",
       "      <td>0</td>\n",
       "      <td>0</td>\n",
       "      <td>1</td>\n",
       "      <td>1</td>\n",
       "      <td>8</td>\n",
       "      <td>1</td>\n",
       "      <td>0.050295</td>\n",
       "      <td>0.116339</td>\n",
       "    </tr>\n",
       "    <tr>\n",
       "      <th>8128</th>\n",
       "      <td>2.0</td>\n",
       "      <td>0.0</td>\n",
       "      <td>1.609438</td>\n",
       "      <td>0</td>\n",
       "      <td>0</td>\n",
       "      <td>0</td>\n",
       "      <td>0</td>\n",
       "      <td>0</td>\n",
       "      <td>0</td>\n",
       "      <td>0</td>\n",
       "      <td>...</td>\n",
       "      <td>0</td>\n",
       "      <td>0</td>\n",
       "      <td>0</td>\n",
       "      <td>0</td>\n",
       "      <td>2</td>\n",
       "      <td>0</td>\n",
       "      <td>8</td>\n",
       "      <td>1</td>\n",
       "      <td>0.693730</td>\n",
       "      <td>0.844355</td>\n",
       "    </tr>\n",
       "    <tr>\n",
       "      <th>2052</th>\n",
       "      <td>2.0</td>\n",
       "      <td>0.0</td>\n",
       "      <td>6.156979</td>\n",
       "      <td>0</td>\n",
       "      <td>0</td>\n",
       "      <td>0</td>\n",
       "      <td>0</td>\n",
       "      <td>0</td>\n",
       "      <td>0</td>\n",
       "      <td>0</td>\n",
       "      <td>...</td>\n",
       "      <td>0</td>\n",
       "      <td>0</td>\n",
       "      <td>0</td>\n",
       "      <td>0</td>\n",
       "      <td>6</td>\n",
       "      <td>1</td>\n",
       "      <td>8</td>\n",
       "      <td>1</td>\n",
       "      <td>0.323664</td>\n",
       "      <td>1.000000</td>\n",
       "    </tr>\n",
       "    <tr>\n",
       "      <th>5499</th>\n",
       "      <td>2.0</td>\n",
       "      <td>0.0</td>\n",
       "      <td>0.000000</td>\n",
       "      <td>0</td>\n",
       "      <td>0</td>\n",
       "      <td>0</td>\n",
       "      <td>0</td>\n",
       "      <td>0</td>\n",
       "      <td>0</td>\n",
       "      <td>0</td>\n",
       "      <td>...</td>\n",
       "      <td>0</td>\n",
       "      <td>0</td>\n",
       "      <td>0</td>\n",
       "      <td>0</td>\n",
       "      <td>1</td>\n",
       "      <td>1</td>\n",
       "      <td>8</td>\n",
       "      <td>1</td>\n",
       "      <td>0.174725</td>\n",
       "      <td>0.204418</td>\n",
       "    </tr>\n",
       "    <tr>\n",
       "      <th>8245</th>\n",
       "      <td>2.0</td>\n",
       "      <td>0.0</td>\n",
       "      <td>1.791759</td>\n",
       "      <td>0</td>\n",
       "      <td>0</td>\n",
       "      <td>0</td>\n",
       "      <td>0</td>\n",
       "      <td>0</td>\n",
       "      <td>0</td>\n",
       "      <td>0</td>\n",
       "      <td>...</td>\n",
       "      <td>0</td>\n",
       "      <td>0</td>\n",
       "      <td>0</td>\n",
       "      <td>0</td>\n",
       "      <td>1</td>\n",
       "      <td>0</td>\n",
       "      <td>8</td>\n",
       "      <td>1</td>\n",
       "      <td>0.932920</td>\n",
       "      <td>1.000000</td>\n",
       "    </tr>\n",
       "    <tr>\n",
       "      <th>2015</th>\n",
       "      <td>2.0</td>\n",
       "      <td>0.0</td>\n",
       "      <td>3.583519</td>\n",
       "      <td>0</td>\n",
       "      <td>0</td>\n",
       "      <td>0</td>\n",
       "      <td>0</td>\n",
       "      <td>0</td>\n",
       "      <td>0</td>\n",
       "      <td>0</td>\n",
       "      <td>...</td>\n",
       "      <td>0</td>\n",
       "      <td>0</td>\n",
       "      <td>0</td>\n",
       "      <td>0</td>\n",
       "      <td>4</td>\n",
       "      <td>1</td>\n",
       "      <td>8</td>\n",
       "      <td>1</td>\n",
       "      <td>0.070729</td>\n",
       "      <td>0.088079</td>\n",
       "    </tr>\n",
       "    <tr>\n",
       "      <th>6055</th>\n",
       "      <td>2.0</td>\n",
       "      <td>0.0</td>\n",
       "      <td>2.564949</td>\n",
       "      <td>0</td>\n",
       "      <td>0</td>\n",
       "      <td>0</td>\n",
       "      <td>0</td>\n",
       "      <td>0</td>\n",
       "      <td>0</td>\n",
       "      <td>0</td>\n",
       "      <td>...</td>\n",
       "      <td>1</td>\n",
       "      <td>0</td>\n",
       "      <td>0</td>\n",
       "      <td>0</td>\n",
       "      <td>2</td>\n",
       "      <td>1</td>\n",
       "      <td>7</td>\n",
       "      <td>0</td>\n",
       "      <td>0.108131</td>\n",
       "      <td>0.116339</td>\n",
       "    </tr>\n",
       "    <tr>\n",
       "      <th>6894</th>\n",
       "      <td>2.0</td>\n",
       "      <td>0.0</td>\n",
       "      <td>3.433987</td>\n",
       "      <td>0</td>\n",
       "      <td>0</td>\n",
       "      <td>0</td>\n",
       "      <td>0</td>\n",
       "      <td>0</td>\n",
       "      <td>0</td>\n",
       "      <td>0</td>\n",
       "      <td>...</td>\n",
       "      <td>0</td>\n",
       "      <td>0</td>\n",
       "      <td>0</td>\n",
       "      <td>0</td>\n",
       "      <td>5</td>\n",
       "      <td>1</td>\n",
       "      <td>9</td>\n",
       "      <td>1</td>\n",
       "      <td>0.133674</td>\n",
       "      <td>1.000000</td>\n",
       "    </tr>\n",
       "  </tbody>\n",
       "</table>\n",
       "<p>10 rows × 40 columns</p>\n",
       "</div>"
      ],
      "text/plain": [
       "      Price Range  Rating  log Number of Reviews  Amsterdam  Athens  \\\n",
       "8173          2.0     0.0               3.637586          0       0   \n",
       "5262          2.0     0.0               4.356709          0       0   \n",
       "8799          2.0     0.0               2.564949          0       0   \n",
       "8128          2.0     0.0               1.609438          0       0   \n",
       "2052          2.0     0.0               6.156979          0       0   \n",
       "5499          2.0     0.0               0.000000          0       0   \n",
       "8245          2.0     0.0               1.791759          0       0   \n",
       "2015          2.0     0.0               3.583519          0       0   \n",
       "6055          2.0     0.0               2.564949          0       0   \n",
       "6894          2.0     0.0               3.433987          0       0   \n",
       "\n",
       "      Barcelona  Berlin  Bratislava  Brussels  Budapest  ...  Stockholm  \\\n",
       "8173          0       0           0         0         0  ...          0   \n",
       "5262          0       0           0         0         0  ...          0   \n",
       "8799          0       0           0         0         0  ...          1   \n",
       "8128          0       0           0         0         0  ...          0   \n",
       "2052          0       0           0         0         0  ...          0   \n",
       "5499          0       0           0         0         0  ...          0   \n",
       "8245          0       0           0         0         0  ...          0   \n",
       "2015          0       0           0         0         0  ...          0   \n",
       "6055          0       0           0         0         0  ...          1   \n",
       "6894          0       0           0         0         0  ...          0   \n",
       "\n",
       "      Vienna  Warsaw  Zurich  cuisine_count  chain  ID_TA_len  ID_TA_type  \\\n",
       "8173       0       0       0              1      0          8           1   \n",
       "5262       0       0       0              3      1          8           1   \n",
       "8799       0       0       0              1      1          8           1   \n",
       "8128       0       0       0              2      0          8           1   \n",
       "2052       0       0       0              6      1          8           1   \n",
       "5499       0       0       0              1      1          8           1   \n",
       "8245       0       0       0              1      0          8           1   \n",
       "2015       0       0       0              4      1          8           1   \n",
       "6055       0       0       0              2      1          7           0   \n",
       "6894       0       0       0              5      1          9           1   \n",
       "\n",
       "      Ranking_norm  rest_count_norm  \n",
       "8173      0.697987         0.844355  \n",
       "5262      0.138661         0.354612  \n",
       "8799      0.050295         0.116339  \n",
       "8128      0.693730         0.844355  \n",
       "2052      0.323664         1.000000  \n",
       "5499      0.174725         0.204418  \n",
       "8245      0.932920         1.000000  \n",
       "2015      0.070729         0.088079  \n",
       "6055      0.108131         0.116339  \n",
       "6894      0.133674         1.000000  \n",
       "\n",
       "[10 rows x 40 columns]"
      ]
     },
     "execution_count": 57,
     "metadata": {},
     "output_type": "execute_result"
    }
   ],
   "source": [
    "test_data.sample(10)"
   ]
  },
  {
   "cell_type": "code",
   "execution_count": 58,
   "metadata": {
    "execution": {
     "iopub.execute_input": "2021-06-26T18:13:56.789143Z",
     "iopub.status.busy": "2021-06-26T18:13:56.788805Z",
     "iopub.status.idle": "2021-06-26T18:13:56.796252Z",
     "shell.execute_reply": "2021-06-26T18:13:56.795079Z",
     "shell.execute_reply.started": "2021-06-26T18:13:56.789076Z"
    }
   },
   "outputs": [],
   "source": [
    "test_data = test_data.drop(['Rating'], axis=1)"
   ]
  },
  {
   "cell_type": "code",
   "execution_count": 59,
   "metadata": {
    "execution": {
     "iopub.execute_input": "2021-06-26T18:13:56.798470Z",
     "iopub.status.busy": "2021-06-26T18:13:56.798062Z",
     "iopub.status.idle": "2021-06-26T18:13:56.820815Z",
     "shell.execute_reply": "2021-06-26T18:13:56.819784Z",
     "shell.execute_reply.started": "2021-06-26T18:13:56.798385Z"
    }
   },
   "outputs": [
    {
     "data": {
      "text/html": [
       "<div>\n",
       "<style scoped>\n",
       "    .dataframe tbody tr th:only-of-type {\n",
       "        vertical-align: middle;\n",
       "    }\n",
       "\n",
       "    .dataframe tbody tr th {\n",
       "        vertical-align: top;\n",
       "    }\n",
       "\n",
       "    .dataframe thead th {\n",
       "        text-align: right;\n",
       "    }\n",
       "</style>\n",
       "<table border=\"1\" class=\"dataframe\">\n",
       "  <thead>\n",
       "    <tr style=\"text-align: right;\">\n",
       "      <th></th>\n",
       "      <th>Restaurant_id</th>\n",
       "      <th>Rating</th>\n",
       "    </tr>\n",
       "  </thead>\n",
       "  <tbody>\n",
       "    <tr>\n",
       "      <th>0</th>\n",
       "      <td>id_0</td>\n",
       "      <td>2.0</td>\n",
       "    </tr>\n",
       "    <tr>\n",
       "      <th>1</th>\n",
       "      <td>id_1</td>\n",
       "      <td>2.5</td>\n",
       "    </tr>\n",
       "    <tr>\n",
       "      <th>2</th>\n",
       "      <td>id_2</td>\n",
       "      <td>4.0</td>\n",
       "    </tr>\n",
       "    <tr>\n",
       "      <th>3</th>\n",
       "      <td>id_3</td>\n",
       "      <td>1.0</td>\n",
       "    </tr>\n",
       "    <tr>\n",
       "      <th>4</th>\n",
       "      <td>id_4</td>\n",
       "      <td>4.0</td>\n",
       "    </tr>\n",
       "    <tr>\n",
       "      <th>...</th>\n",
       "      <td>...</td>\n",
       "      <td>...</td>\n",
       "    </tr>\n",
       "    <tr>\n",
       "      <th>9995</th>\n",
       "      <td>id_9995</td>\n",
       "      <td>3.0</td>\n",
       "    </tr>\n",
       "    <tr>\n",
       "      <th>9996</th>\n",
       "      <td>id_9996</td>\n",
       "      <td>1.5</td>\n",
       "    </tr>\n",
       "    <tr>\n",
       "      <th>9997</th>\n",
       "      <td>id_9997</td>\n",
       "      <td>4.5</td>\n",
       "    </tr>\n",
       "    <tr>\n",
       "      <th>9998</th>\n",
       "      <td>id_9998</td>\n",
       "      <td>1.0</td>\n",
       "    </tr>\n",
       "    <tr>\n",
       "      <th>9999</th>\n",
       "      <td>id_9999</td>\n",
       "      <td>2.5</td>\n",
       "    </tr>\n",
       "  </tbody>\n",
       "</table>\n",
       "<p>10000 rows × 2 columns</p>\n",
       "</div>"
      ],
      "text/plain": [
       "     Restaurant_id  Rating\n",
       "0             id_0     2.0\n",
       "1             id_1     2.5\n",
       "2             id_2     4.0\n",
       "3             id_3     1.0\n",
       "4             id_4     4.0\n",
       "...            ...     ...\n",
       "9995       id_9995     3.0\n",
       "9996       id_9996     1.5\n",
       "9997       id_9997     4.5\n",
       "9998       id_9998     1.0\n",
       "9999       id_9999     2.5\n",
       "\n",
       "[10000 rows x 2 columns]"
      ]
     },
     "execution_count": 59,
     "metadata": {},
     "output_type": "execute_result"
    }
   ],
   "source": [
    "sample_submission"
   ]
  },
  {
   "cell_type": "code",
   "execution_count": 60,
   "metadata": {
    "execution": {
     "iopub.execute_input": "2021-06-26T18:13:56.822805Z",
     "iopub.status.busy": "2021-06-26T18:13:56.822428Z",
     "iopub.status.idle": "2021-06-26T18:13:57.033480Z",
     "shell.execute_reply": "2021-06-26T18:13:57.032554Z",
     "shell.execute_reply.started": "2021-06-26T18:13:56.822739Z"
    }
   },
   "outputs": [
    {
     "name": "stderr",
     "output_type": "stream",
     "text": [
      "[Parallel(n_jobs=4)]: Using backend ThreadingBackend with 4 concurrent workers.\n",
      "[Parallel(n_jobs=4)]: Done  42 tasks      | elapsed:    0.0s\n",
      "[Parallel(n_jobs=4)]: Done 100 out of 100 | elapsed:    0.1s finished\n"
     ]
    }
   ],
   "source": [
    "predict_submission = model.predict(test_data)"
   ]
  },
  {
   "cell_type": "code",
   "execution_count": 61,
   "metadata": {
    "execution": {
     "iopub.execute_input": "2021-06-26T18:13:57.035546Z",
     "iopub.status.busy": "2021-06-26T18:13:57.035177Z",
     "iopub.status.idle": "2021-06-26T18:13:57.042955Z",
     "shell.execute_reply": "2021-06-26T18:13:57.042017Z",
     "shell.execute_reply.started": "2021-06-26T18:13:57.035477Z"
    }
   },
   "outputs": [
    {
     "data": {
      "text/plain": [
       "array([3. , 4. , 4.5, ..., 3. , 4.5, 4. ])"
      ]
     },
     "execution_count": 61,
     "metadata": {},
     "output_type": "execute_result"
    }
   ],
   "source": [
    "np.round(predict_submission * 2) / 2"
   ]
  },
  {
   "cell_type": "code",
   "execution_count": 62,
   "metadata": {
    "execution": {
     "iopub.execute_input": "2021-06-26T18:13:57.045357Z",
     "iopub.status.busy": "2021-06-26T18:13:57.044802Z",
     "iopub.status.idle": "2021-06-26T18:13:57.078220Z",
     "shell.execute_reply": "2021-06-26T18:13:57.077514Z",
     "shell.execute_reply.started": "2021-06-26T18:13:57.045301Z"
    }
   },
   "outputs": [
    {
     "data": {
      "text/html": [
       "<div>\n",
       "<style scoped>\n",
       "    .dataframe tbody tr th:only-of-type {\n",
       "        vertical-align: middle;\n",
       "    }\n",
       "\n",
       "    .dataframe tbody tr th {\n",
       "        vertical-align: top;\n",
       "    }\n",
       "\n",
       "    .dataframe thead th {\n",
       "        text-align: right;\n",
       "    }\n",
       "</style>\n",
       "<table border=\"1\" class=\"dataframe\">\n",
       "  <thead>\n",
       "    <tr style=\"text-align: right;\">\n",
       "      <th></th>\n",
       "      <th>Restaurant_id</th>\n",
       "      <th>Rating</th>\n",
       "    </tr>\n",
       "  </thead>\n",
       "  <tbody>\n",
       "    <tr>\n",
       "      <th>0</th>\n",
       "      <td>id_0</td>\n",
       "      <td>3.0</td>\n",
       "    </tr>\n",
       "    <tr>\n",
       "      <th>1</th>\n",
       "      <td>id_1</td>\n",
       "      <td>4.0</td>\n",
       "    </tr>\n",
       "    <tr>\n",
       "      <th>2</th>\n",
       "      <td>id_2</td>\n",
       "      <td>4.5</td>\n",
       "    </tr>\n",
       "    <tr>\n",
       "      <th>3</th>\n",
       "      <td>id_3</td>\n",
       "      <td>4.5</td>\n",
       "    </tr>\n",
       "    <tr>\n",
       "      <th>4</th>\n",
       "      <td>id_4</td>\n",
       "      <td>4.5</td>\n",
       "    </tr>\n",
       "    <tr>\n",
       "      <th>5</th>\n",
       "      <td>id_5</td>\n",
       "      <td>4.5</td>\n",
       "    </tr>\n",
       "    <tr>\n",
       "      <th>6</th>\n",
       "      <td>id_6</td>\n",
       "      <td>1.5</td>\n",
       "    </tr>\n",
       "    <tr>\n",
       "      <th>7</th>\n",
       "      <td>id_7</td>\n",
       "      <td>2.5</td>\n",
       "    </tr>\n",
       "    <tr>\n",
       "      <th>8</th>\n",
       "      <td>id_8</td>\n",
       "      <td>4.0</td>\n",
       "    </tr>\n",
       "    <tr>\n",
       "      <th>9</th>\n",
       "      <td>id_9</td>\n",
       "      <td>4.5</td>\n",
       "    </tr>\n",
       "  </tbody>\n",
       "</table>\n",
       "</div>"
      ],
      "text/plain": [
       "  Restaurant_id  Rating\n",
       "0          id_0     3.0\n",
       "1          id_1     4.0\n",
       "2          id_2     4.5\n",
       "3          id_3     4.5\n",
       "4          id_4     4.5\n",
       "5          id_5     4.5\n",
       "6          id_6     1.5\n",
       "7          id_7     2.5\n",
       "8          id_8     4.0\n",
       "9          id_9     4.5"
      ]
     },
     "execution_count": 62,
     "metadata": {},
     "output_type": "execute_result"
    }
   ],
   "source": [
    "sample_submission['Rating'] = np.round(predict_submission * 2) / 2\n",
    "sample_submission.to_csv('submission.csv', index=False)\n",
    "sample_submission.head(10)"
   ]
  },
  {
   "cell_type": "markdown",
   "metadata": {},
   "source": [
    "Вывод\n",
    "Была проведена работа по обработки и подготовки данных для обучения модели.\n",
    "Результатом остался условно доволен так как еще не на все 100% произведена работа по поиску признаков. Есть куда расти.\n",
    "Буду и дальше работать с этими данными для улучшения своих результатов."
   ]
  }
 ],
 "metadata": {
  "kernelspec": {
   "display_name": "Python 3",
   "language": "python",
   "name": "python3"
  },
  "language_info": {
   "codemirror_mode": {
    "name": "ipython",
    "version": 3
   },
   "file_extension": ".py",
   "mimetype": "text/x-python",
   "name": "python",
   "nbconvert_exporter": "python",
   "pygments_lexer": "ipython3",
   "version": "3.8.5"
  }
 },
 "nbformat": 4,
 "nbformat_minor": 4
}
